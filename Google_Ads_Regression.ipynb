{
  "nbformat": 4,
  "nbformat_minor": 0,
  "metadata": {
    "colab": {
      "provenance": [],
      "collapsed_sections": [
        "jIbvZHG3IT_D",
        "cfhWcPq2Jlbo",
        "C_Px_bJQCEam",
        "FNyIL4z3SEca"
      ],
      "authorship_tag": "ABX9TyOW+SX3zRYdzIDyUykF8sVf",
      "include_colab_link": true
    },
    "kernelspec": {
      "name": "python3",
      "display_name": "Python 3"
    },
    "language_info": {
      "name": "python"
    }
  },
  "cells": [
    {
      "cell_type": "markdown",
      "metadata": {
        "id": "view-in-github",
        "colab_type": "text"
      },
      "source": [
        "<a href=\"https://colab.research.google.com/github/Lopesg-Marcia/ml-regression/blob/main/Google_Ads_Regression.ipynb\" target=\"_parent\"><img src=\"https://colab.research.google.com/assets/colab-badge.svg\" alt=\"Open In Colab\"/></a>"
      ]
    },
    {
      "cell_type": "markdown",
      "source": [
        "# Load Libraries"
      ],
      "metadata": {
        "id": "GcYZfcBHAIAQ"
      }
    },
    {
      "cell_type": "code",
      "source": [
        "import pandas as pd\n",
        "import seaborn as srn\n",
        "import statistics  as sts\n",
        "import matplotlib.pyplot as plt\n",
        "from sklearn.model_selection import train_test_split\n",
        "from sklearn.linear_model import LinearRegression\n",
        "from sklearn.linear_model import Ridge, Lasso\n",
        "from sklearn.metrics import mean_squared_error, r2_score\n",
        "from sklearn.preprocessing import StandardScaler\n",
        "from graphviz import Digraph\n",
        "from IPython.display import Image"
      ],
      "metadata": {
        "id": "TjSUNGsRALMt"
      },
      "execution_count": 88,
      "outputs": []
    },
    {
      "cell_type": "markdown",
      "source": [
        "# Upload data"
      ],
      "metadata": {
        "id": "uSiI4gRZASFN"
      }
    },
    {
      "cell_type": "code",
      "source": [
        "url = 'https://docs.google.com/spreadsheets/d/1jd3c7CpUC0pgSxLVYXSFncqVEea3hLOivc3MlNq-axo/gviz/tq?tqx=out:csv'"
      ],
      "metadata": {
        "id": "b2uUrIB4ATW7"
      },
      "execution_count": 89,
      "outputs": []
    },
    {
      "cell_type": "code",
      "source": [
        "dataset = pd.read_csv(url)"
      ],
      "metadata": {
        "id": "hWRxUhnjAiy-"
      },
      "execution_count": 90,
      "outputs": []
    },
    {
      "cell_type": "code",
      "source": [
        "dataset.head()"
      ],
      "metadata": {
        "colab": {
          "base_uri": "https://localhost:8080/",
          "height": 206
        },
        "id": "m9Jp1zSPAmkA",
        "outputId": "bf6883ee-d591-4ba2-81f3-73fada5fe667"
      },
      "execution_count": 91,
      "outputs": [
        {
          "output_type": "execute_result",
          "data": {
            "text/plain": [
              "  Campaign Name  Clicks  Impressions    CPC    CTR  Conversions    CVR\n",
              "0    Campaign 1   727.0        10080  $1.00  7.21%           44  6.05%\n",
              "1    Campaign 2   719.0         7986  $1.13  9.00%           43  5.98%\n",
              "2    Campaign 3   290.0         3229  $1.14  8.98%           17  5.86%\n",
              "3    Campaign 4   546.0         7272  $1.03  7.51%           32  5.86%\n",
              "4    Campaign 5   273.0         3030  $1.03  9.01%           16  5.86%"
            ],
            "text/html": [
              "\n",
              "  <div id=\"df-fb2a8821-ef97-4bd7-a308-6685bd1e6a32\" class=\"colab-df-container\">\n",
              "    <div>\n",
              "<style scoped>\n",
              "    .dataframe tbody tr th:only-of-type {\n",
              "        vertical-align: middle;\n",
              "    }\n",
              "\n",
              "    .dataframe tbody tr th {\n",
              "        vertical-align: top;\n",
              "    }\n",
              "\n",
              "    .dataframe thead th {\n",
              "        text-align: right;\n",
              "    }\n",
              "</style>\n",
              "<table border=\"1\" class=\"dataframe\">\n",
              "  <thead>\n",
              "    <tr style=\"text-align: right;\">\n",
              "      <th></th>\n",
              "      <th>Campaign Name</th>\n",
              "      <th>Clicks</th>\n",
              "      <th>Impressions</th>\n",
              "      <th>CPC</th>\n",
              "      <th>CTR</th>\n",
              "      <th>Conversions</th>\n",
              "      <th>CVR</th>\n",
              "    </tr>\n",
              "  </thead>\n",
              "  <tbody>\n",
              "    <tr>\n",
              "      <th>0</th>\n",
              "      <td>Campaign 1</td>\n",
              "      <td>727.0</td>\n",
              "      <td>10080</td>\n",
              "      <td>$1.00</td>\n",
              "      <td>7.21%</td>\n",
              "      <td>44</td>\n",
              "      <td>6.05%</td>\n",
              "    </tr>\n",
              "    <tr>\n",
              "      <th>1</th>\n",
              "      <td>Campaign 2</td>\n",
              "      <td>719.0</td>\n",
              "      <td>7986</td>\n",
              "      <td>$1.13</td>\n",
              "      <td>9.00%</td>\n",
              "      <td>43</td>\n",
              "      <td>5.98%</td>\n",
              "    </tr>\n",
              "    <tr>\n",
              "      <th>2</th>\n",
              "      <td>Campaign 3</td>\n",
              "      <td>290.0</td>\n",
              "      <td>3229</td>\n",
              "      <td>$1.14</td>\n",
              "      <td>8.98%</td>\n",
              "      <td>17</td>\n",
              "      <td>5.86%</td>\n",
              "    </tr>\n",
              "    <tr>\n",
              "      <th>3</th>\n",
              "      <td>Campaign 4</td>\n",
              "      <td>546.0</td>\n",
              "      <td>7272</td>\n",
              "      <td>$1.03</td>\n",
              "      <td>7.51%</td>\n",
              "      <td>32</td>\n",
              "      <td>5.86%</td>\n",
              "    </tr>\n",
              "    <tr>\n",
              "      <th>4</th>\n",
              "      <td>Campaign 5</td>\n",
              "      <td>273.0</td>\n",
              "      <td>3030</td>\n",
              "      <td>$1.03</td>\n",
              "      <td>9.01%</td>\n",
              "      <td>16</td>\n",
              "      <td>5.86%</td>\n",
              "    </tr>\n",
              "  </tbody>\n",
              "</table>\n",
              "</div>\n",
              "    <div class=\"colab-df-buttons\">\n",
              "\n",
              "  <div class=\"colab-df-container\">\n",
              "    <button class=\"colab-df-convert\" onclick=\"convertToInteractive('df-fb2a8821-ef97-4bd7-a308-6685bd1e6a32')\"\n",
              "            title=\"Convert this dataframe to an interactive table.\"\n",
              "            style=\"display:none;\">\n",
              "\n",
              "  <svg xmlns=\"http://www.w3.org/2000/svg\" height=\"24px\" viewBox=\"0 -960 960 960\">\n",
              "    <path d=\"M120-120v-720h720v720H120Zm60-500h600v-160H180v160Zm220 220h160v-160H400v160Zm0 220h160v-160H400v160ZM180-400h160v-160H180v160Zm440 0h160v-160H620v160ZM180-180h160v-160H180v160Zm440 0h160v-160H620v160Z\"/>\n",
              "  </svg>\n",
              "    </button>\n",
              "\n",
              "  <style>\n",
              "    .colab-df-container {\n",
              "      display:flex;\n",
              "      gap: 12px;\n",
              "    }\n",
              "\n",
              "    .colab-df-convert {\n",
              "      background-color: #E8F0FE;\n",
              "      border: none;\n",
              "      border-radius: 50%;\n",
              "      cursor: pointer;\n",
              "      display: none;\n",
              "      fill: #1967D2;\n",
              "      height: 32px;\n",
              "      padding: 0 0 0 0;\n",
              "      width: 32px;\n",
              "    }\n",
              "\n",
              "    .colab-df-convert:hover {\n",
              "      background-color: #E2EBFA;\n",
              "      box-shadow: 0px 1px 2px rgba(60, 64, 67, 0.3), 0px 1px 3px 1px rgba(60, 64, 67, 0.15);\n",
              "      fill: #174EA6;\n",
              "    }\n",
              "\n",
              "    .colab-df-buttons div {\n",
              "      margin-bottom: 4px;\n",
              "    }\n",
              "\n",
              "    [theme=dark] .colab-df-convert {\n",
              "      background-color: #3B4455;\n",
              "      fill: #D2E3FC;\n",
              "    }\n",
              "\n",
              "    [theme=dark] .colab-df-convert:hover {\n",
              "      background-color: #434B5C;\n",
              "      box-shadow: 0px 1px 3px 1px rgba(0, 0, 0, 0.15);\n",
              "      filter: drop-shadow(0px 1px 2px rgba(0, 0, 0, 0.3));\n",
              "      fill: #FFFFFF;\n",
              "    }\n",
              "  </style>\n",
              "\n",
              "    <script>\n",
              "      const buttonEl =\n",
              "        document.querySelector('#df-fb2a8821-ef97-4bd7-a308-6685bd1e6a32 button.colab-df-convert');\n",
              "      buttonEl.style.display =\n",
              "        google.colab.kernel.accessAllowed ? 'block' : 'none';\n",
              "\n",
              "      async function convertToInteractive(key) {\n",
              "        const element = document.querySelector('#df-fb2a8821-ef97-4bd7-a308-6685bd1e6a32');\n",
              "        const dataTable =\n",
              "          await google.colab.kernel.invokeFunction('convertToInteractive',\n",
              "                                                    [key], {});\n",
              "        if (!dataTable) return;\n",
              "\n",
              "        const docLinkHtml = 'Like what you see? Visit the ' +\n",
              "          '<a target=\"_blank\" href=https://colab.research.google.com/notebooks/data_table.ipynb>data table notebook</a>'\n",
              "          + ' to learn more about interactive tables.';\n",
              "        element.innerHTML = '';\n",
              "        dataTable['output_type'] = 'display_data';\n",
              "        await google.colab.output.renderOutput(dataTable, element);\n",
              "        const docLink = document.createElement('div');\n",
              "        docLink.innerHTML = docLinkHtml;\n",
              "        element.appendChild(docLink);\n",
              "      }\n",
              "    </script>\n",
              "  </div>\n",
              "\n",
              "\n",
              "<div id=\"df-53e5963f-75c6-4a74-9942-fe9af6d21884\">\n",
              "  <button class=\"colab-df-quickchart\" onclick=\"quickchart('df-53e5963f-75c6-4a74-9942-fe9af6d21884')\"\n",
              "            title=\"Suggest charts\"\n",
              "            style=\"display:none;\">\n",
              "\n",
              "<svg xmlns=\"http://www.w3.org/2000/svg\" height=\"24px\"viewBox=\"0 0 24 24\"\n",
              "     width=\"24px\">\n",
              "    <g>\n",
              "        <path d=\"M19 3H5c-1.1 0-2 .9-2 2v14c0 1.1.9 2 2 2h14c1.1 0 2-.9 2-2V5c0-1.1-.9-2-2-2zM9 17H7v-7h2v7zm4 0h-2V7h2v10zm4 0h-2v-4h2v4z\"/>\n",
              "    </g>\n",
              "</svg>\n",
              "  </button>\n",
              "\n",
              "<style>\n",
              "  .colab-df-quickchart {\n",
              "      --bg-color: #E8F0FE;\n",
              "      --fill-color: #1967D2;\n",
              "      --hover-bg-color: #E2EBFA;\n",
              "      --hover-fill-color: #174EA6;\n",
              "      --disabled-fill-color: #AAA;\n",
              "      --disabled-bg-color: #DDD;\n",
              "  }\n",
              "\n",
              "  [theme=dark] .colab-df-quickchart {\n",
              "      --bg-color: #3B4455;\n",
              "      --fill-color: #D2E3FC;\n",
              "      --hover-bg-color: #434B5C;\n",
              "      --hover-fill-color: #FFFFFF;\n",
              "      --disabled-bg-color: #3B4455;\n",
              "      --disabled-fill-color: #666;\n",
              "  }\n",
              "\n",
              "  .colab-df-quickchart {\n",
              "    background-color: var(--bg-color);\n",
              "    border: none;\n",
              "    border-radius: 50%;\n",
              "    cursor: pointer;\n",
              "    display: none;\n",
              "    fill: var(--fill-color);\n",
              "    height: 32px;\n",
              "    padding: 0;\n",
              "    width: 32px;\n",
              "  }\n",
              "\n",
              "  .colab-df-quickchart:hover {\n",
              "    background-color: var(--hover-bg-color);\n",
              "    box-shadow: 0 1px 2px rgba(60, 64, 67, 0.3), 0 1px 3px 1px rgba(60, 64, 67, 0.15);\n",
              "    fill: var(--button-hover-fill-color);\n",
              "  }\n",
              "\n",
              "  .colab-df-quickchart-complete:disabled,\n",
              "  .colab-df-quickchart-complete:disabled:hover {\n",
              "    background-color: var(--disabled-bg-color);\n",
              "    fill: var(--disabled-fill-color);\n",
              "    box-shadow: none;\n",
              "  }\n",
              "\n",
              "  .colab-df-spinner {\n",
              "    border: 2px solid var(--fill-color);\n",
              "    border-color: transparent;\n",
              "    border-bottom-color: var(--fill-color);\n",
              "    animation:\n",
              "      spin 1s steps(1) infinite;\n",
              "  }\n",
              "\n",
              "  @keyframes spin {\n",
              "    0% {\n",
              "      border-color: transparent;\n",
              "      border-bottom-color: var(--fill-color);\n",
              "      border-left-color: var(--fill-color);\n",
              "    }\n",
              "    20% {\n",
              "      border-color: transparent;\n",
              "      border-left-color: var(--fill-color);\n",
              "      border-top-color: var(--fill-color);\n",
              "    }\n",
              "    30% {\n",
              "      border-color: transparent;\n",
              "      border-left-color: var(--fill-color);\n",
              "      border-top-color: var(--fill-color);\n",
              "      border-right-color: var(--fill-color);\n",
              "    }\n",
              "    40% {\n",
              "      border-color: transparent;\n",
              "      border-right-color: var(--fill-color);\n",
              "      border-top-color: var(--fill-color);\n",
              "    }\n",
              "    60% {\n",
              "      border-color: transparent;\n",
              "      border-right-color: var(--fill-color);\n",
              "    }\n",
              "    80% {\n",
              "      border-color: transparent;\n",
              "      border-right-color: var(--fill-color);\n",
              "      border-bottom-color: var(--fill-color);\n",
              "    }\n",
              "    90% {\n",
              "      border-color: transparent;\n",
              "      border-bottom-color: var(--fill-color);\n",
              "    }\n",
              "  }\n",
              "</style>\n",
              "\n",
              "  <script>\n",
              "    async function quickchart(key) {\n",
              "      const quickchartButtonEl =\n",
              "        document.querySelector('#' + key + ' button');\n",
              "      quickchartButtonEl.disabled = true;  // To prevent multiple clicks.\n",
              "      quickchartButtonEl.classList.add('colab-df-spinner');\n",
              "      try {\n",
              "        const charts = await google.colab.kernel.invokeFunction(\n",
              "            'suggestCharts', [key], {});\n",
              "      } catch (error) {\n",
              "        console.error('Error during call to suggestCharts:', error);\n",
              "      }\n",
              "      quickchartButtonEl.classList.remove('colab-df-spinner');\n",
              "      quickchartButtonEl.classList.add('colab-df-quickchart-complete');\n",
              "    }\n",
              "    (() => {\n",
              "      let quickchartButtonEl =\n",
              "        document.querySelector('#df-53e5963f-75c6-4a74-9942-fe9af6d21884 button');\n",
              "      quickchartButtonEl.style.display =\n",
              "        google.colab.kernel.accessAllowed ? 'block' : 'none';\n",
              "    })();\n",
              "  </script>\n",
              "</div>\n",
              "\n",
              "    </div>\n",
              "  </div>\n"
            ],
            "application/vnd.google.colaboratory.intrinsic+json": {
              "type": "dataframe",
              "variable_name": "dataset",
              "summary": "{\n  \"name\": \"dataset\",\n  \"rows\": 500,\n  \"fields\": [\n    {\n      \"column\": \"Campaign Name\",\n      \"properties\": {\n        \"dtype\": \"string\",\n        \"num_unique_values\": 500,\n        \"samples\": [\n          \"Campaign 362\",\n          \"Campaign 74\",\n          \"Campaign 375\"\n        ],\n        \"semantic_type\": \"\",\n        \"description\": \"\"\n      }\n    },\n    {\n      \"column\": \"Clicks\",\n      \"properties\": {\n        \"dtype\": \"number\",\n        \"std\": 233.81652830391894,\n        \"min\": 202.0,\n        \"max\": 1000.0,\n        \"num_unique_values\": 368,\n        \"samples\": [\n          857.0,\n          256.0,\n          481.0\n        ],\n        \"semantic_type\": \"\",\n        \"description\": \"\"\n      }\n    },\n    {\n      \"column\": \"Impressions\",\n      \"properties\": {\n        \"dtype\": \"number\",\n        \"std\": 3700,\n        \"min\": 2004,\n        \"max\": 19414,\n        \"num_unique_values\": 407,\n        \"samples\": [\n          5048,\n          6195,\n          6372\n        ],\n        \"semantic_type\": \"\",\n        \"description\": \"\"\n      }\n    },\n    {\n      \"column\": \"CPC\",\n      \"properties\": {\n        \"dtype\": \"category\",\n        \"num_unique_values\": 85,\n        \"samples\": [\n          \"$1.35\",\n          \"$1.00\",\n          \"$0.60\"\n        ],\n        \"semantic_type\": \"\",\n        \"description\": \"\"\n      }\n    },\n    {\n      \"column\": \"CTR\",\n      \"properties\": {\n        \"dtype\": \"string\",\n        \"num_unique_values\": 328,\n        \"samples\": [\n          \"11.24%\",\n          \"6.02%\",\n          \"9.73%\"\n        ],\n        \"semantic_type\": \"\",\n        \"description\": \"\"\n      }\n    },\n    {\n      \"column\": \"Conversions\",\n      \"properties\": {\n        \"dtype\": \"number\",\n        \"std\": 11,\n        \"min\": 8,\n        \"max\": 58,\n        \"num_unique_values\": 51,\n        \"samples\": [\n          45,\n          50,\n          9\n        ],\n        \"semantic_type\": \"\",\n        \"description\": \"\"\n      }\n    },\n    {\n      \"column\": \"CVR\",\n      \"properties\": {\n        \"dtype\": \"category\",\n        \"num_unique_values\": 225,\n        \"samples\": [\n          \"5.79%\",\n          \"3.34%\",\n          \"4.45%\"\n        ],\n        \"semantic_type\": \"\",\n        \"description\": \"\"\n      }\n    }\n  ]\n}"
            }
          },
          "metadata": {},
          "execution_count": 91
        }
      ]
    },
    {
      "cell_type": "markdown",
      "source": [
        "# Initial Data Exploration"
      ],
      "metadata": {
        "id": "uz7zrhYDBByV"
      }
    },
    {
      "cell_type": "markdown",
      "source": [
        "## Dataset"
      ],
      "metadata": {
        "id": "qBL14x96BDvL"
      }
    },
    {
      "cell_type": "code",
      "source": [
        "# Size\n",
        "dataset.shape\n"
      ],
      "metadata": {
        "colab": {
          "base_uri": "https://localhost:8080/"
        },
        "id": "cRUSI_sfBGx1",
        "outputId": "71434fae-bad8-4736-bce2-b39f4b505ac3"
      },
      "execution_count": 92,
      "outputs": [
        {
          "output_type": "execute_result",
          "data": {
            "text/plain": [
              "(500, 7)"
            ]
          },
          "metadata": {},
          "execution_count": 92
        }
      ]
    },
    {
      "cell_type": "code",
      "source": [
        "# Type\n",
        "print(dataset.info())"
      ],
      "metadata": {
        "colab": {
          "base_uri": "https://localhost:8080/"
        },
        "id": "J4LANjDSBNzU",
        "outputId": "da2218c2-8cee-4339-b279-a9c40e1e235e"
      },
      "execution_count": 93,
      "outputs": [
        {
          "output_type": "stream",
          "name": "stdout",
          "text": [
            "<class 'pandas.core.frame.DataFrame'>\n",
            "RangeIndex: 500 entries, 0 to 499\n",
            "Data columns (total 7 columns):\n",
            " #   Column         Non-Null Count  Dtype  \n",
            "---  ------         --------------  -----  \n",
            " 0   Campaign Name  500 non-null    object \n",
            " 1   Clicks         499 non-null    float64\n",
            " 2   Impressions    500 non-null    int64  \n",
            " 3   CPC            499 non-null    object \n",
            " 4   CTR            499 non-null    object \n",
            " 5   Conversions    500 non-null    int64  \n",
            " 6   CVR            499 non-null    object \n",
            "dtypes: float64(1), int64(2), object(4)\n",
            "memory usage: 27.5+ KB\n",
            "None\n"
          ]
        }
      ]
    },
    {
      "cell_type": "code",
      "source": [
        "# Visualize\n",
        "dataset.head()"
      ],
      "metadata": {
        "colab": {
          "base_uri": "https://localhost:8080/",
          "height": 206
        },
        "id": "3Tmn7rTGBS5c",
        "outputId": "cde17781-abdc-43f9-886e-0714a666a4e8"
      },
      "execution_count": 94,
      "outputs": [
        {
          "output_type": "execute_result",
          "data": {
            "text/plain": [
              "  Campaign Name  Clicks  Impressions    CPC    CTR  Conversions    CVR\n",
              "0    Campaign 1   727.0        10080  $1.00  7.21%           44  6.05%\n",
              "1    Campaign 2   719.0         7986  $1.13  9.00%           43  5.98%\n",
              "2    Campaign 3   290.0         3229  $1.14  8.98%           17  5.86%\n",
              "3    Campaign 4   546.0         7272  $1.03  7.51%           32  5.86%\n",
              "4    Campaign 5   273.0         3030  $1.03  9.01%           16  5.86%"
            ],
            "text/html": [
              "\n",
              "  <div id=\"df-42839620-1ca1-44b7-bab2-af3def4adfc7\" class=\"colab-df-container\">\n",
              "    <div>\n",
              "<style scoped>\n",
              "    .dataframe tbody tr th:only-of-type {\n",
              "        vertical-align: middle;\n",
              "    }\n",
              "\n",
              "    .dataframe tbody tr th {\n",
              "        vertical-align: top;\n",
              "    }\n",
              "\n",
              "    .dataframe thead th {\n",
              "        text-align: right;\n",
              "    }\n",
              "</style>\n",
              "<table border=\"1\" class=\"dataframe\">\n",
              "  <thead>\n",
              "    <tr style=\"text-align: right;\">\n",
              "      <th></th>\n",
              "      <th>Campaign Name</th>\n",
              "      <th>Clicks</th>\n",
              "      <th>Impressions</th>\n",
              "      <th>CPC</th>\n",
              "      <th>CTR</th>\n",
              "      <th>Conversions</th>\n",
              "      <th>CVR</th>\n",
              "    </tr>\n",
              "  </thead>\n",
              "  <tbody>\n",
              "    <tr>\n",
              "      <th>0</th>\n",
              "      <td>Campaign 1</td>\n",
              "      <td>727.0</td>\n",
              "      <td>10080</td>\n",
              "      <td>$1.00</td>\n",
              "      <td>7.21%</td>\n",
              "      <td>44</td>\n",
              "      <td>6.05%</td>\n",
              "    </tr>\n",
              "    <tr>\n",
              "      <th>1</th>\n",
              "      <td>Campaign 2</td>\n",
              "      <td>719.0</td>\n",
              "      <td>7986</td>\n",
              "      <td>$1.13</td>\n",
              "      <td>9.00%</td>\n",
              "      <td>43</td>\n",
              "      <td>5.98%</td>\n",
              "    </tr>\n",
              "    <tr>\n",
              "      <th>2</th>\n",
              "      <td>Campaign 3</td>\n",
              "      <td>290.0</td>\n",
              "      <td>3229</td>\n",
              "      <td>$1.14</td>\n",
              "      <td>8.98%</td>\n",
              "      <td>17</td>\n",
              "      <td>5.86%</td>\n",
              "    </tr>\n",
              "    <tr>\n",
              "      <th>3</th>\n",
              "      <td>Campaign 4</td>\n",
              "      <td>546.0</td>\n",
              "      <td>7272</td>\n",
              "      <td>$1.03</td>\n",
              "      <td>7.51%</td>\n",
              "      <td>32</td>\n",
              "      <td>5.86%</td>\n",
              "    </tr>\n",
              "    <tr>\n",
              "      <th>4</th>\n",
              "      <td>Campaign 5</td>\n",
              "      <td>273.0</td>\n",
              "      <td>3030</td>\n",
              "      <td>$1.03</td>\n",
              "      <td>9.01%</td>\n",
              "      <td>16</td>\n",
              "      <td>5.86%</td>\n",
              "    </tr>\n",
              "  </tbody>\n",
              "</table>\n",
              "</div>\n",
              "    <div class=\"colab-df-buttons\">\n",
              "\n",
              "  <div class=\"colab-df-container\">\n",
              "    <button class=\"colab-df-convert\" onclick=\"convertToInteractive('df-42839620-1ca1-44b7-bab2-af3def4adfc7')\"\n",
              "            title=\"Convert this dataframe to an interactive table.\"\n",
              "            style=\"display:none;\">\n",
              "\n",
              "  <svg xmlns=\"http://www.w3.org/2000/svg\" height=\"24px\" viewBox=\"0 -960 960 960\">\n",
              "    <path d=\"M120-120v-720h720v720H120Zm60-500h600v-160H180v160Zm220 220h160v-160H400v160Zm0 220h160v-160H400v160ZM180-400h160v-160H180v160Zm440 0h160v-160H620v160ZM180-180h160v-160H180v160Zm440 0h160v-160H620v160Z\"/>\n",
              "  </svg>\n",
              "    </button>\n",
              "\n",
              "  <style>\n",
              "    .colab-df-container {\n",
              "      display:flex;\n",
              "      gap: 12px;\n",
              "    }\n",
              "\n",
              "    .colab-df-convert {\n",
              "      background-color: #E8F0FE;\n",
              "      border: none;\n",
              "      border-radius: 50%;\n",
              "      cursor: pointer;\n",
              "      display: none;\n",
              "      fill: #1967D2;\n",
              "      height: 32px;\n",
              "      padding: 0 0 0 0;\n",
              "      width: 32px;\n",
              "    }\n",
              "\n",
              "    .colab-df-convert:hover {\n",
              "      background-color: #E2EBFA;\n",
              "      box-shadow: 0px 1px 2px rgba(60, 64, 67, 0.3), 0px 1px 3px 1px rgba(60, 64, 67, 0.15);\n",
              "      fill: #174EA6;\n",
              "    }\n",
              "\n",
              "    .colab-df-buttons div {\n",
              "      margin-bottom: 4px;\n",
              "    }\n",
              "\n",
              "    [theme=dark] .colab-df-convert {\n",
              "      background-color: #3B4455;\n",
              "      fill: #D2E3FC;\n",
              "    }\n",
              "\n",
              "    [theme=dark] .colab-df-convert:hover {\n",
              "      background-color: #434B5C;\n",
              "      box-shadow: 0px 1px 3px 1px rgba(0, 0, 0, 0.15);\n",
              "      filter: drop-shadow(0px 1px 2px rgba(0, 0, 0, 0.3));\n",
              "      fill: #FFFFFF;\n",
              "    }\n",
              "  </style>\n",
              "\n",
              "    <script>\n",
              "      const buttonEl =\n",
              "        document.querySelector('#df-42839620-1ca1-44b7-bab2-af3def4adfc7 button.colab-df-convert');\n",
              "      buttonEl.style.display =\n",
              "        google.colab.kernel.accessAllowed ? 'block' : 'none';\n",
              "\n",
              "      async function convertToInteractive(key) {\n",
              "        const element = document.querySelector('#df-42839620-1ca1-44b7-bab2-af3def4adfc7');\n",
              "        const dataTable =\n",
              "          await google.colab.kernel.invokeFunction('convertToInteractive',\n",
              "                                                    [key], {});\n",
              "        if (!dataTable) return;\n",
              "\n",
              "        const docLinkHtml = 'Like what you see? Visit the ' +\n",
              "          '<a target=\"_blank\" href=https://colab.research.google.com/notebooks/data_table.ipynb>data table notebook</a>'\n",
              "          + ' to learn more about interactive tables.';\n",
              "        element.innerHTML = '';\n",
              "        dataTable['output_type'] = 'display_data';\n",
              "        await google.colab.output.renderOutput(dataTable, element);\n",
              "        const docLink = document.createElement('div');\n",
              "        docLink.innerHTML = docLinkHtml;\n",
              "        element.appendChild(docLink);\n",
              "      }\n",
              "    </script>\n",
              "  </div>\n",
              "\n",
              "\n",
              "<div id=\"df-55d33d66-574f-42b4-9a67-6915c582bad2\">\n",
              "  <button class=\"colab-df-quickchart\" onclick=\"quickchart('df-55d33d66-574f-42b4-9a67-6915c582bad2')\"\n",
              "            title=\"Suggest charts\"\n",
              "            style=\"display:none;\">\n",
              "\n",
              "<svg xmlns=\"http://www.w3.org/2000/svg\" height=\"24px\"viewBox=\"0 0 24 24\"\n",
              "     width=\"24px\">\n",
              "    <g>\n",
              "        <path d=\"M19 3H5c-1.1 0-2 .9-2 2v14c0 1.1.9 2 2 2h14c1.1 0 2-.9 2-2V5c0-1.1-.9-2-2-2zM9 17H7v-7h2v7zm4 0h-2V7h2v10zm4 0h-2v-4h2v4z\"/>\n",
              "    </g>\n",
              "</svg>\n",
              "  </button>\n",
              "\n",
              "<style>\n",
              "  .colab-df-quickchart {\n",
              "      --bg-color: #E8F0FE;\n",
              "      --fill-color: #1967D2;\n",
              "      --hover-bg-color: #E2EBFA;\n",
              "      --hover-fill-color: #174EA6;\n",
              "      --disabled-fill-color: #AAA;\n",
              "      --disabled-bg-color: #DDD;\n",
              "  }\n",
              "\n",
              "  [theme=dark] .colab-df-quickchart {\n",
              "      --bg-color: #3B4455;\n",
              "      --fill-color: #D2E3FC;\n",
              "      --hover-bg-color: #434B5C;\n",
              "      --hover-fill-color: #FFFFFF;\n",
              "      --disabled-bg-color: #3B4455;\n",
              "      --disabled-fill-color: #666;\n",
              "  }\n",
              "\n",
              "  .colab-df-quickchart {\n",
              "    background-color: var(--bg-color);\n",
              "    border: none;\n",
              "    border-radius: 50%;\n",
              "    cursor: pointer;\n",
              "    display: none;\n",
              "    fill: var(--fill-color);\n",
              "    height: 32px;\n",
              "    padding: 0;\n",
              "    width: 32px;\n",
              "  }\n",
              "\n",
              "  .colab-df-quickchart:hover {\n",
              "    background-color: var(--hover-bg-color);\n",
              "    box-shadow: 0 1px 2px rgba(60, 64, 67, 0.3), 0 1px 3px 1px rgba(60, 64, 67, 0.15);\n",
              "    fill: var(--button-hover-fill-color);\n",
              "  }\n",
              "\n",
              "  .colab-df-quickchart-complete:disabled,\n",
              "  .colab-df-quickchart-complete:disabled:hover {\n",
              "    background-color: var(--disabled-bg-color);\n",
              "    fill: var(--disabled-fill-color);\n",
              "    box-shadow: none;\n",
              "  }\n",
              "\n",
              "  .colab-df-spinner {\n",
              "    border: 2px solid var(--fill-color);\n",
              "    border-color: transparent;\n",
              "    border-bottom-color: var(--fill-color);\n",
              "    animation:\n",
              "      spin 1s steps(1) infinite;\n",
              "  }\n",
              "\n",
              "  @keyframes spin {\n",
              "    0% {\n",
              "      border-color: transparent;\n",
              "      border-bottom-color: var(--fill-color);\n",
              "      border-left-color: var(--fill-color);\n",
              "    }\n",
              "    20% {\n",
              "      border-color: transparent;\n",
              "      border-left-color: var(--fill-color);\n",
              "      border-top-color: var(--fill-color);\n",
              "    }\n",
              "    30% {\n",
              "      border-color: transparent;\n",
              "      border-left-color: var(--fill-color);\n",
              "      border-top-color: var(--fill-color);\n",
              "      border-right-color: var(--fill-color);\n",
              "    }\n",
              "    40% {\n",
              "      border-color: transparent;\n",
              "      border-right-color: var(--fill-color);\n",
              "      border-top-color: var(--fill-color);\n",
              "    }\n",
              "    60% {\n",
              "      border-color: transparent;\n",
              "      border-right-color: var(--fill-color);\n",
              "    }\n",
              "    80% {\n",
              "      border-color: transparent;\n",
              "      border-right-color: var(--fill-color);\n",
              "      border-bottom-color: var(--fill-color);\n",
              "    }\n",
              "    90% {\n",
              "      border-color: transparent;\n",
              "      border-bottom-color: var(--fill-color);\n",
              "    }\n",
              "  }\n",
              "</style>\n",
              "\n",
              "  <script>\n",
              "    async function quickchart(key) {\n",
              "      const quickchartButtonEl =\n",
              "        document.querySelector('#' + key + ' button');\n",
              "      quickchartButtonEl.disabled = true;  // To prevent multiple clicks.\n",
              "      quickchartButtonEl.classList.add('colab-df-spinner');\n",
              "      try {\n",
              "        const charts = await google.colab.kernel.invokeFunction(\n",
              "            'suggestCharts', [key], {});\n",
              "      } catch (error) {\n",
              "        console.error('Error during call to suggestCharts:', error);\n",
              "      }\n",
              "      quickchartButtonEl.classList.remove('colab-df-spinner');\n",
              "      quickchartButtonEl.classList.add('colab-df-quickchart-complete');\n",
              "    }\n",
              "    (() => {\n",
              "      let quickchartButtonEl =\n",
              "        document.querySelector('#df-55d33d66-574f-42b4-9a67-6915c582bad2 button');\n",
              "      quickchartButtonEl.style.display =\n",
              "        google.colab.kernel.accessAllowed ? 'block' : 'none';\n",
              "    })();\n",
              "  </script>\n",
              "</div>\n",
              "\n",
              "    </div>\n",
              "  </div>\n"
            ],
            "application/vnd.google.colaboratory.intrinsic+json": {
              "type": "dataframe",
              "variable_name": "dataset",
              "summary": "{\n  \"name\": \"dataset\",\n  \"rows\": 500,\n  \"fields\": [\n    {\n      \"column\": \"Campaign Name\",\n      \"properties\": {\n        \"dtype\": \"string\",\n        \"num_unique_values\": 500,\n        \"samples\": [\n          \"Campaign 362\",\n          \"Campaign 74\",\n          \"Campaign 375\"\n        ],\n        \"semantic_type\": \"\",\n        \"description\": \"\"\n      }\n    },\n    {\n      \"column\": \"Clicks\",\n      \"properties\": {\n        \"dtype\": \"number\",\n        \"std\": 233.81652830391894,\n        \"min\": 202.0,\n        \"max\": 1000.0,\n        \"num_unique_values\": 368,\n        \"samples\": [\n          857.0,\n          256.0,\n          481.0\n        ],\n        \"semantic_type\": \"\",\n        \"description\": \"\"\n      }\n    },\n    {\n      \"column\": \"Impressions\",\n      \"properties\": {\n        \"dtype\": \"number\",\n        \"std\": 3700,\n        \"min\": 2004,\n        \"max\": 19414,\n        \"num_unique_values\": 407,\n        \"samples\": [\n          5048,\n          6195,\n          6372\n        ],\n        \"semantic_type\": \"\",\n        \"description\": \"\"\n      }\n    },\n    {\n      \"column\": \"CPC\",\n      \"properties\": {\n        \"dtype\": \"category\",\n        \"num_unique_values\": 85,\n        \"samples\": [\n          \"$1.35\",\n          \"$1.00\",\n          \"$0.60\"\n        ],\n        \"semantic_type\": \"\",\n        \"description\": \"\"\n      }\n    },\n    {\n      \"column\": \"CTR\",\n      \"properties\": {\n        \"dtype\": \"string\",\n        \"num_unique_values\": 328,\n        \"samples\": [\n          \"11.24%\",\n          \"6.02%\",\n          \"9.73%\"\n        ],\n        \"semantic_type\": \"\",\n        \"description\": \"\"\n      }\n    },\n    {\n      \"column\": \"Conversions\",\n      \"properties\": {\n        \"dtype\": \"number\",\n        \"std\": 11,\n        \"min\": 8,\n        \"max\": 58,\n        \"num_unique_values\": 51,\n        \"samples\": [\n          45,\n          50,\n          9\n        ],\n        \"semantic_type\": \"\",\n        \"description\": \"\"\n      }\n    },\n    {\n      \"column\": \"CVR\",\n      \"properties\": {\n        \"dtype\": \"category\",\n        \"num_unique_values\": 225,\n        \"samples\": [\n          \"5.79%\",\n          \"3.34%\",\n          \"4.45%\"\n        ],\n        \"semantic_type\": \"\",\n        \"description\": \"\"\n      }\n    }\n  ]\n}"
            }
          },
          "metadata": {},
          "execution_count": 94
        }
      ]
    },
    {
      "cell_type": "markdown",
      "source": [
        "## Attributes"
      ],
      "metadata": {
        "id": "SawU04t6BcsI"
      }
    },
    {
      "cell_type": "code",
      "source": [
        "# Removing unused attibutes\n",
        "dataset = dataset.drop(['Campaign Name', 'CVR', 'CTR'], axis=1)"
      ],
      "metadata": {
        "id": "JW3rz1PgyDdO"
      },
      "execution_count": 95,
      "outputs": []
    },
    {
      "cell_type": "code",
      "source": [
        "print(dataset.info())"
      ],
      "metadata": {
        "colab": {
          "base_uri": "https://localhost:8080/"
        },
        "id": "-zA3ava6yoVp",
        "outputId": "91beea17-94e8-4740-f4de-66d6cf162ec4"
      },
      "execution_count": 96,
      "outputs": [
        {
          "output_type": "stream",
          "name": "stdout",
          "text": [
            "<class 'pandas.core.frame.DataFrame'>\n",
            "RangeIndex: 500 entries, 0 to 499\n",
            "Data columns (total 4 columns):\n",
            " #   Column       Non-Null Count  Dtype  \n",
            "---  ------       --------------  -----  \n",
            " 0   Clicks       499 non-null    float64\n",
            " 1   Impressions  500 non-null    int64  \n",
            " 2   CPC          499 non-null    object \n",
            " 3   Conversions  500 non-null    int64  \n",
            "dtypes: float64(1), int64(2), object(1)\n",
            "memory usage: 15.8+ KB\n",
            "None\n"
          ]
        }
      ]
    },
    {
      "cell_type": "code",
      "source": [
        "dataset['Clicks'].describe()"
      ],
      "metadata": {
        "colab": {
          "base_uri": "https://localhost:8080/",
          "height": 336
        },
        "id": "TQTFoVtwBk9t",
        "outputId": "fd6b6a2b-b79f-44d5-e714-2db6777bd46e"
      },
      "execution_count": 97,
      "outputs": [
        {
          "output_type": "execute_result",
          "data": {
            "text/plain": [
              "count     499.000000\n",
              "mean      589.042084\n",
              "std       233.816528\n",
              "min       202.000000\n",
              "25%       376.500000\n",
              "50%       583.000000\n",
              "75%       780.000000\n",
              "max      1000.000000\n",
              "Name: Clicks, dtype: float64"
            ],
            "text/html": [
              "<div>\n",
              "<style scoped>\n",
              "    .dataframe tbody tr th:only-of-type {\n",
              "        vertical-align: middle;\n",
              "    }\n",
              "\n",
              "    .dataframe tbody tr th {\n",
              "        vertical-align: top;\n",
              "    }\n",
              "\n",
              "    .dataframe thead th {\n",
              "        text-align: right;\n",
              "    }\n",
              "</style>\n",
              "<table border=\"1\" class=\"dataframe\">\n",
              "  <thead>\n",
              "    <tr style=\"text-align: right;\">\n",
              "      <th></th>\n",
              "      <th>Clicks</th>\n",
              "    </tr>\n",
              "  </thead>\n",
              "  <tbody>\n",
              "    <tr>\n",
              "      <th>count</th>\n",
              "      <td>499.000000</td>\n",
              "    </tr>\n",
              "    <tr>\n",
              "      <th>mean</th>\n",
              "      <td>589.042084</td>\n",
              "    </tr>\n",
              "    <tr>\n",
              "      <th>std</th>\n",
              "      <td>233.816528</td>\n",
              "    </tr>\n",
              "    <tr>\n",
              "      <th>min</th>\n",
              "      <td>202.000000</td>\n",
              "    </tr>\n",
              "    <tr>\n",
              "      <th>25%</th>\n",
              "      <td>376.500000</td>\n",
              "    </tr>\n",
              "    <tr>\n",
              "      <th>50%</th>\n",
              "      <td>583.000000</td>\n",
              "    </tr>\n",
              "    <tr>\n",
              "      <th>75%</th>\n",
              "      <td>780.000000</td>\n",
              "    </tr>\n",
              "    <tr>\n",
              "      <th>max</th>\n",
              "      <td>1000.000000</td>\n",
              "    </tr>\n",
              "  </tbody>\n",
              "</table>\n",
              "</div><br><label><b>dtype:</b> float64</label>"
            ]
          },
          "metadata": {},
          "execution_count": 97
        }
      ]
    },
    {
      "cell_type": "code",
      "source": [
        "dataset['Impressions'].describe()"
      ],
      "metadata": {
        "colab": {
          "base_uri": "https://localhost:8080/",
          "height": 336
        },
        "id": "qXmzQRrmBm_i",
        "outputId": "f20a3896-30e5-411c-b3ca-e45354108e2a"
      },
      "execution_count": 98,
      "outputs": [
        {
          "output_type": "execute_result",
          "data": {
            "text/plain": [
              "count      500.000000\n",
              "mean      7089.748000\n",
              "std       3700.703581\n",
              "min       2004.000000\n",
              "25%       4254.750000\n",
              "50%       6358.000000\n",
              "75%       8835.000000\n",
              "max      19414.000000\n",
              "Name: Impressions, dtype: float64"
            ],
            "text/html": [
              "<div>\n",
              "<style scoped>\n",
              "    .dataframe tbody tr th:only-of-type {\n",
              "        vertical-align: middle;\n",
              "    }\n",
              "\n",
              "    .dataframe tbody tr th {\n",
              "        vertical-align: top;\n",
              "    }\n",
              "\n",
              "    .dataframe thead th {\n",
              "        text-align: right;\n",
              "    }\n",
              "</style>\n",
              "<table border=\"1\" class=\"dataframe\">\n",
              "  <thead>\n",
              "    <tr style=\"text-align: right;\">\n",
              "      <th></th>\n",
              "      <th>Impressions</th>\n",
              "    </tr>\n",
              "  </thead>\n",
              "  <tbody>\n",
              "    <tr>\n",
              "      <th>count</th>\n",
              "      <td>500.000000</td>\n",
              "    </tr>\n",
              "    <tr>\n",
              "      <th>mean</th>\n",
              "      <td>7089.748000</td>\n",
              "    </tr>\n",
              "    <tr>\n",
              "      <th>std</th>\n",
              "      <td>3700.703581</td>\n",
              "    </tr>\n",
              "    <tr>\n",
              "      <th>min</th>\n",
              "      <td>2004.000000</td>\n",
              "    </tr>\n",
              "    <tr>\n",
              "      <th>25%</th>\n",
              "      <td>4254.750000</td>\n",
              "    </tr>\n",
              "    <tr>\n",
              "      <th>50%</th>\n",
              "      <td>6358.000000</td>\n",
              "    </tr>\n",
              "    <tr>\n",
              "      <th>75%</th>\n",
              "      <td>8835.000000</td>\n",
              "    </tr>\n",
              "    <tr>\n",
              "      <th>max</th>\n",
              "      <td>19414.000000</td>\n",
              "    </tr>\n",
              "  </tbody>\n",
              "</table>\n",
              "</div><br><label><b>dtype:</b> float64</label>"
            ]
          },
          "metadata": {},
          "execution_count": 98
        }
      ]
    },
    {
      "cell_type": "code",
      "source": [
        "dataset['CPC'].describe()"
      ],
      "metadata": {
        "colab": {
          "base_uri": "https://localhost:8080/",
          "height": 211
        },
        "id": "H12Jbx41BpcD",
        "outputId": "d35114fd-95f4-4b07-d4d4-b3fde5e4fa2a"
      },
      "execution_count": 99,
      "outputs": [
        {
          "output_type": "execute_result",
          "data": {
            "text/plain": [
              "count       499\n",
              "unique       85\n",
              "top       $0.69\n",
              "freq         17\n",
              "Name: CPC, dtype: object"
            ],
            "text/html": [
              "<div>\n",
              "<style scoped>\n",
              "    .dataframe tbody tr th:only-of-type {\n",
              "        vertical-align: middle;\n",
              "    }\n",
              "\n",
              "    .dataframe tbody tr th {\n",
              "        vertical-align: top;\n",
              "    }\n",
              "\n",
              "    .dataframe thead th {\n",
              "        text-align: right;\n",
              "    }\n",
              "</style>\n",
              "<table border=\"1\" class=\"dataframe\">\n",
              "  <thead>\n",
              "    <tr style=\"text-align: right;\">\n",
              "      <th></th>\n",
              "      <th>CPC</th>\n",
              "    </tr>\n",
              "  </thead>\n",
              "  <tbody>\n",
              "    <tr>\n",
              "      <th>count</th>\n",
              "      <td>499</td>\n",
              "    </tr>\n",
              "    <tr>\n",
              "      <th>unique</th>\n",
              "      <td>85</td>\n",
              "    </tr>\n",
              "    <tr>\n",
              "      <th>top</th>\n",
              "      <td>$0.69</td>\n",
              "    </tr>\n",
              "    <tr>\n",
              "      <th>freq</th>\n",
              "      <td>17</td>\n",
              "    </tr>\n",
              "  </tbody>\n",
              "</table>\n",
              "</div><br><label><b>dtype:</b> object</label>"
            ]
          },
          "metadata": {},
          "execution_count": 99
        }
      ]
    },
    {
      "cell_type": "markdown",
      "source": [
        "# Data Transformation"
      ],
      "metadata": {
        "id": "kGNh7p0uCX9B"
      }
    },
    {
      "cell_type": "markdown",
      "source": [
        "## Treat Incorrect Data Types"
      ],
      "metadata": {
        "id": "nB7fVDY9Cdm0"
      }
    },
    {
      "cell_type": "code",
      "source": [
        "# Type\n",
        "print(dataset.info())"
      ],
      "metadata": {
        "colab": {
          "base_uri": "https://localhost:8080/"
        },
        "id": "QzIsToMZCfPl",
        "outputId": "4862265c-745a-47bc-936d-b6e4582d7a84"
      },
      "execution_count": 100,
      "outputs": [
        {
          "output_type": "stream",
          "name": "stdout",
          "text": [
            "<class 'pandas.core.frame.DataFrame'>\n",
            "RangeIndex: 500 entries, 0 to 499\n",
            "Data columns (total 4 columns):\n",
            " #   Column       Non-Null Count  Dtype  \n",
            "---  ------       --------------  -----  \n",
            " 0   Clicks       499 non-null    float64\n",
            " 1   Impressions  500 non-null    int64  \n",
            " 2   CPC          499 non-null    object \n",
            " 3   Conversions  500 non-null    int64  \n",
            "dtypes: float64(1), int64(2), object(1)\n",
            "memory usage: 15.8+ KB\n",
            "None\n"
          ]
        }
      ]
    },
    {
      "cell_type": "markdown",
      "source": [
        "### CPC"
      ],
      "metadata": {
        "id": "8KFy0eIxDNIk"
      }
    },
    {
      "cell_type": "code",
      "source": [
        "# Converting Object to Numeric\n",
        "temp_cpc = pd.to_numeric(dataset['CPC'], errors='coerce')\n",
        "print(temp_cpc.head())"
      ],
      "metadata": {
        "colab": {
          "base_uri": "https://localhost:8080/"
        },
        "id": "MyZtor8hDOj8",
        "outputId": "19791b60-be4c-4349-b9ed-dbc92fabae8b"
      },
      "execution_count": 101,
      "outputs": [
        {
          "output_type": "stream",
          "name": "stdout",
          "text": [
            "0   NaN\n",
            "1   NaN\n",
            "2   NaN\n",
            "3   NaN\n",
            "4   NaN\n",
            "Name: CPC, dtype: float64\n"
          ]
        }
      ]
    },
    {
      "cell_type": "code",
      "source": [
        "# Replacing commas with periods\n",
        "temp_cpc = dataset['CPC'].str.replace(',', '.', regex=True)\n",
        "print(temp_cpc.head())"
      ],
      "metadata": {
        "colab": {
          "base_uri": "https://localhost:8080/"
        },
        "id": "Uy6R64REDo4x",
        "outputId": "3f7b6d3e-d77a-48b1-c64f-e94eddbd288c"
      },
      "execution_count": 102,
      "outputs": [
        {
          "output_type": "stream",
          "name": "stdout",
          "text": [
            "0    $1.00\n",
            "1    $1.13\n",
            "2    $1.14\n",
            "3    $1.03\n",
            "4    $1.03\n",
            "Name: CPC, dtype: object\n"
          ]
        }
      ]
    },
    {
      "cell_type": "code",
      "source": [
        "# Removing non-numeric characters such as symbols or spaces\n",
        "temp_cpc = dataset['CPC'].str.replace('[^\\d.]', '', regex=True)\n",
        "print(temp_cpc.head())"
      ],
      "metadata": {
        "colab": {
          "base_uri": "https://localhost:8080/"
        },
        "id": "CXRkotJDDhsi",
        "outputId": "e530ecd7-c48c-4040-9046-eca04c13889a"
      },
      "execution_count": 103,
      "outputs": [
        {
          "output_type": "stream",
          "name": "stdout",
          "text": [
            "0    1.00\n",
            "1    1.13\n",
            "2    1.14\n",
            "3    1.03\n",
            "4    1.03\n",
            "Name: CPC, dtype: object\n"
          ]
        }
      ]
    },
    {
      "cell_type": "code",
      "source": [
        "# Converting Object to Numeric\n",
        "temp_cpc = pd.to_numeric(temp_cpc, errors='coerce')\n",
        "print(temp_cpc.head())"
      ],
      "metadata": {
        "colab": {
          "base_uri": "https://localhost:8080/"
        },
        "id": "crcTSAKBD46t",
        "outputId": "148ea105-bd61-4166-f181-72a1ea275dbb"
      },
      "execution_count": 104,
      "outputs": [
        {
          "output_type": "stream",
          "name": "stdout",
          "text": [
            "0    1.00\n",
            "1    1.13\n",
            "2    1.14\n",
            "3    1.03\n",
            "4    1.03\n",
            "Name: CPC, dtype: float64\n"
          ]
        }
      ]
    },
    {
      "cell_type": "code",
      "source": [
        "dataset['CPC'] = temp_cpc\n",
        "print(dataset['CPC'].head())"
      ],
      "metadata": {
        "colab": {
          "base_uri": "https://localhost:8080/"
        },
        "id": "k_A0TTA_EAUJ",
        "outputId": "4d9d4039-6e4f-4bff-f0c0-5a23fff8f2a7"
      },
      "execution_count": 105,
      "outputs": [
        {
          "output_type": "stream",
          "name": "stdout",
          "text": [
            "0    1.00\n",
            "1    1.13\n",
            "2    1.14\n",
            "3    1.03\n",
            "4    1.03\n",
            "Name: CPC, dtype: float64\n"
          ]
        }
      ]
    },
    {
      "cell_type": "code",
      "source": [
        "# Checking Type\n",
        "print(dataset.info())"
      ],
      "metadata": {
        "colab": {
          "base_uri": "https://localhost:8080/"
        },
        "id": "gRd-PjHTFYiA",
        "outputId": "e239d4b6-089d-4a89-cebd-51f2681a5047"
      },
      "execution_count": 21,
      "outputs": [
        {
          "output_type": "stream",
          "name": "stdout",
          "text": [
            "<class 'pandas.core.frame.DataFrame'>\n",
            "RangeIndex: 500 entries, 0 to 499\n",
            "Data columns (total 4 columns):\n",
            " #   Column       Non-Null Count  Dtype  \n",
            "---  ------       --------------  -----  \n",
            " 0   Clicks       499 non-null    float64\n",
            " 1   Impressions  500 non-null    int64  \n",
            " 2   CPC          499 non-null    float64\n",
            " 3   Conversions  500 non-null    int64  \n",
            "dtypes: float64(2), int64(2)\n",
            "memory usage: 15.8 KB\n",
            "None\n"
          ]
        }
      ]
    },
    {
      "cell_type": "markdown",
      "source": [
        "# Data Exploration and Analysis"
      ],
      "metadata": {
        "id": "5A62BBUmGswc"
      }
    },
    {
      "cell_type": "markdown",
      "source": [
        "## Clicks"
      ],
      "metadata": {
        "id": "jIbvZHG3IT_D"
      }
    },
    {
      "cell_type": "code",
      "source": [
        "srn.boxplot(dataset['Clicks'])\n",
        "plt.show()"
      ],
      "metadata": {
        "colab": {
          "base_uri": "https://localhost:8080/",
          "height": 411
        },
        "id": "ZhwLaqp1IWeS",
        "outputId": "09244a31-e726-488d-d9cb-788b6ee45be5"
      },
      "execution_count": 106,
      "outputs": [
        {
          "output_type": "display_data",
          "data": {
            "text/plain": [
              "<Figure size 640x480 with 1 Axes>"
            ],
            "image/png": "[encoded data removed]"
          },
          "metadata": {}
        }
      ]
    },
    {
      "cell_type": "code",
      "source": [
        "srn.histplot(dataset['Clicks'],bins=5,kde=True)"
      ],
      "metadata": {
        "colab": {
          "base_uri": "https://localhost:8080/",
          "height": 467
        },
        "id": "83tNDE8BI-i8",
        "outputId": "c729a316-d7de-4e67-dd7e-352a09c9ca72"
      },
      "execution_count": 107,
      "outputs": [
        {
          "output_type": "execute_result",
          "data": {
            "text/plain": [
              "<Axes: xlabel='Clicks', ylabel='Count'>"
            ]
          },
          "metadata": {},
          "execution_count": 107
        },
        {
          "output_type": "display_data",
          "data": {
            "text/plain": [
              "<Figure size 640x480 with 1 Axes>"
            ],
            "image/png": "[encoded data removed]"
          },
          "metadata": {}
        }
      ]
    },
    {
      "cell_type": "markdown",
      "source": [
        "## Impressions"
      ],
      "metadata": {
        "id": "cfhWcPq2Jlbo"
      }
    },
    {
      "cell_type": "code",
      "source": [
        "srn.boxplot(dataset['Impressions'])"
      ],
      "metadata": {
        "colab": {
          "base_uri": "https://localhost:8080/",
          "height": 429
        },
        "id": "1N9qurGtJoxX",
        "outputId": "2d64a229-e195-4fcb-d886-503a57f9590a"
      },
      "execution_count": 108,
      "outputs": [
        {
          "output_type": "execute_result",
          "data": {
            "text/plain": [
              "<Axes: ylabel='Impressions'>"
            ]
          },
          "metadata": {},
          "execution_count": 108
        },
        {
          "output_type": "display_data",
          "data": {
            "text/plain": [
              "<Figure size 640x480 with 1 Axes>"
            ],
            "image/png": "[encoded data removed]"
          },
          "metadata": {}
        }
      ]
    },
    {
      "cell_type": "code",
      "source": [
        "srn.histplot(dataset['Impressions'],bins=5,kde=True)"
      ],
      "metadata": {
        "colab": {
          "base_uri": "https://localhost:8080/",
          "height": 467
        },
        "id": "s8jHKzGkJvEx",
        "outputId": "dd472b6a-04ad-41a7-da5d-ed7f8fbcff07"
      },
      "execution_count": 109,
      "outputs": [
        {
          "output_type": "execute_result",
          "data": {
            "text/plain": [
              "<Axes: xlabel='Impressions', ylabel='Count'>"
            ]
          },
          "metadata": {},
          "execution_count": 109
        },
        {
          "output_type": "display_data",
          "data": {
            "text/plain": [
              "<Figure size 640x480 with 1 Axes>"
            ],
            "image/png": "[encoded data removed]"
          },
          "metadata": {}
        }
      ]
    },
    {
      "cell_type": "markdown",
      "source": [
        "## CPC"
      ],
      "metadata": {
        "id": "SfqkYvgKJ_Q8"
      }
    },
    {
      "cell_type": "code",
      "source": [
        "srn.boxplot(dataset['CPC'])"
      ],
      "metadata": {
        "colab": {
          "base_uri": "https://localhost:8080/",
          "height": 429
        },
        "id": "jfIC9AXzKDYZ",
        "outputId": "98cab9b3-a1bb-4b66-865d-3c0836903080"
      },
      "execution_count": 110,
      "outputs": [
        {
          "output_type": "execute_result",
          "data": {
            "text/plain": [
              "<Axes: ylabel='CPC'>"
            ]
          },
          "metadata": {},
          "execution_count": 110
        },
        {
          "output_type": "display_data",
          "data": {
            "text/plain": [
              "<Figure size 640x480 with 1 Axes>"
            ],
            "image/png": "[encoded data removed]"
          },
          "metadata": {}
        }
      ]
    },
    {
      "cell_type": "code",
      "source": [
        "srn.histplot(dataset['CPC'],bins=5)"
      ],
      "metadata": {
        "colab": {
          "base_uri": "https://localhost:8080/",
          "height": 467
        },
        "id": "hai4QErzKFCs",
        "outputId": "a32b6ddf-36bc-4de3-c2e8-da6771e35998"
      },
      "execution_count": 111,
      "outputs": [
        {
          "output_type": "execute_result",
          "data": {
            "text/plain": [
              "<Axes: xlabel='CPC', ylabel='Count'>"
            ]
          },
          "metadata": {},
          "execution_count": 111
        },
        {
          "output_type": "display_data",
          "data": {
            "text/plain": [
              "<Figure size 640x480 with 1 Axes>"
            ],
            "image/png": "[encoded data removed]"
          },
          "metadata": {}
        }
      ]
    },
    {
      "cell_type": "code",
      "source": [
        "dataset['CPC'].describe()"
      ],
      "metadata": {
        "colab": {
          "base_uri": "https://localhost:8080/",
          "height": 336
        },
        "id": "jqbngx0yKVI5",
        "outputId": "85a29f2f-581c-4150-e4e2-552d5add2456"
      },
      "execution_count": 112,
      "outputs": [
        {
          "output_type": "execute_result",
          "data": {
            "text/plain": [
              "count    499.000000\n",
              "mean       1.359960\n",
              "std       11.155968\n",
              "min        0.440000\n",
              "25%        0.640000\n",
              "50%        0.820000\n",
              "75%        1.100000\n",
              "max      250.000000\n",
              "Name: CPC, dtype: float64"
            ],
            "text/html": [
              "<div>\n",
              "<style scoped>\n",
              "    .dataframe tbody tr th:only-of-type {\n",
              "        vertical-align: middle;\n",
              "    }\n",
              "\n",
              "    .dataframe tbody tr th {\n",
              "        vertical-align: top;\n",
              "    }\n",
              "\n",
              "    .dataframe thead th {\n",
              "        text-align: right;\n",
              "    }\n",
              "</style>\n",
              "<table border=\"1\" class=\"dataframe\">\n",
              "  <thead>\n",
              "    <tr style=\"text-align: right;\">\n",
              "      <th></th>\n",
              "      <th>CPC</th>\n",
              "    </tr>\n",
              "  </thead>\n",
              "  <tbody>\n",
              "    <tr>\n",
              "      <th>count</th>\n",
              "      <td>499.000000</td>\n",
              "    </tr>\n",
              "    <tr>\n",
              "      <th>mean</th>\n",
              "      <td>1.359960</td>\n",
              "    </tr>\n",
              "    <tr>\n",
              "      <th>std</th>\n",
              "      <td>11.155968</td>\n",
              "    </tr>\n",
              "    <tr>\n",
              "      <th>min</th>\n",
              "      <td>0.440000</td>\n",
              "    </tr>\n",
              "    <tr>\n",
              "      <th>25%</th>\n",
              "      <td>0.640000</td>\n",
              "    </tr>\n",
              "    <tr>\n",
              "      <th>50%</th>\n",
              "      <td>0.820000</td>\n",
              "    </tr>\n",
              "    <tr>\n",
              "      <th>75%</th>\n",
              "      <td>1.100000</td>\n",
              "    </tr>\n",
              "    <tr>\n",
              "      <th>max</th>\n",
              "      <td>250.000000</td>\n",
              "    </tr>\n",
              "  </tbody>\n",
              "</table>\n",
              "</div><br><label><b>dtype:</b> float64</label>"
            ]
          },
          "metadata": {},
          "execution_count": 112
        }
      ]
    },
    {
      "cell_type": "code",
      "source": [
        "# Creating a temporary series to show Boxplot without Outliers\n",
        "temp_cpc2 = dataset['CPC']\n",
        "print(temp_cpc2.head())"
      ],
      "metadata": {
        "colab": {
          "base_uri": "https://localhost:8080/"
        },
        "id": "4AvEPJVQKtDE",
        "outputId": "c428883e-79aa-4efa-c545-20da5bbdd483"
      },
      "execution_count": 113,
      "outputs": [
        {
          "output_type": "stream",
          "name": "stdout",
          "text": [
            "0    1.00\n",
            "1    1.13\n",
            "2    1.14\n",
            "3    1.03\n",
            "4    1.03\n",
            "Name: CPC, dtype: float64\n"
          ]
        }
      ]
    },
    {
      "cell_type": "code",
      "source": [
        "Q1 = temp_cpc2.quantile(0.25)\n",
        "Q3 = temp_cpc2.quantile(0.75)\n",
        "IQR = Q3 - Q1\n",
        "lower_bound = Q1 - 1.5 * IQR\n",
        "upper_bound = Q3 + 1.5 * IQR\n",
        "filtered_data = temp_cpc2[(temp_cpc2 >= lower_bound) & (temp_cpc2 <= upper_bound)]"
      ],
      "metadata": {
        "id": "8ItjF881LGiv"
      },
      "execution_count": 114,
      "outputs": []
    },
    {
      "cell_type": "code",
      "source": [
        "# Boxplot without Outliers\n",
        "srn.boxplot(filtered_data)"
      ],
      "metadata": {
        "colab": {
          "base_uri": "https://localhost:8080/",
          "height": 429
        },
        "id": "Vw3kSRvNLQTN",
        "outputId": "d066d95f-f30e-4760-e081-06a27c0fe2b9"
      },
      "execution_count": 115,
      "outputs": [
        {
          "output_type": "execute_result",
          "data": {
            "text/plain": [
              "<Axes: ylabel='CPC'>"
            ]
          },
          "metadata": {},
          "execution_count": 115
        },
        {
          "output_type": "display_data",
          "data": {
            "text/plain": [
              "<Figure size 640x480 with 1 Axes>"
            ],
            "image/png": "[encoded data removed]"
          },
          "metadata": {}
        }
      ]
    },
    {
      "cell_type": "code",
      "source": [
        "# Histogram without Outliers\n",
        "bins = [0, 0.3, 0.6, 0.9, 1.2, 1.5]\n",
        "srn.histplot(filtered_data,bins=bins,kde=True)"
      ],
      "metadata": {
        "colab": {
          "base_uri": "https://localhost:8080/",
          "height": 467
        },
        "id": "TRSJ1eb-Nxkw",
        "outputId": "8ed01f08-1cd5-4cdb-c165-85febbb035f2"
      },
      "execution_count": 116,
      "outputs": [
        {
          "output_type": "execute_result",
          "data": {
            "text/plain": [
              "<Axes: xlabel='CPC', ylabel='Count'>"
            ]
          },
          "metadata": {},
          "execution_count": 116
        },
        {
          "output_type": "display_data",
          "data": {
            "text/plain": [
              "<Figure size 640x480 with 1 Axes>"
            ],
            "image/png": "[encoded data removed]"
          },
          "metadata": {}
        }
      ]
    },
    {
      "cell_type": "markdown",
      "source": [
        "## Conversions"
      ],
      "metadata": {
        "id": "Epr503nqP6TU"
      }
    },
    {
      "cell_type": "code",
      "source": [
        "srn.boxplot(dataset['Conversions'])"
      ],
      "metadata": {
        "colab": {
          "base_uri": "https://localhost:8080/",
          "height": 431
        },
        "id": "xG7KCgDSP8L1",
        "outputId": "7dde6b80-c7e2-43d2-9a8b-3808d996c637"
      },
      "execution_count": 117,
      "outputs": [
        {
          "output_type": "execute_result",
          "data": {
            "text/plain": [
              "<Axes: ylabel='Conversions'>"
            ]
          },
          "metadata": {},
          "execution_count": 117
        },
        {
          "output_type": "display_data",
          "data": {
            "text/plain": [
              "<Figure size 640x480 with 1 Axes>"
            ],
            "image/png": "[encoded data removed]"
          },
          "metadata": {}
        }
      ]
    },
    {
      "cell_type": "code",
      "source": [
        "srn.histplot(dataset['Conversions'],bins=5,kde=True)"
      ],
      "metadata": {
        "colab": {
          "base_uri": "https://localhost:8080/",
          "height": 467
        },
        "id": "wCEpGX93P6GO",
        "outputId": "605d03ef-e95a-48a4-8be5-7524641d580e"
      },
      "execution_count": 118,
      "outputs": [
        {
          "output_type": "execute_result",
          "data": {
            "text/plain": [
              "<Axes: xlabel='Conversions', ylabel='Count'>"
            ]
          },
          "metadata": {},
          "execution_count": 118
        },
        {
          "output_type": "display_data",
          "data": {
            "text/plain": [
              "<Figure size 640x480 with 1 Axes>"
            ],
            "image/png": "[encoded data removed]"
          },
          "metadata": {}
        }
      ]
    },
    {
      "cell_type": "markdown",
      "source": [
        "# Data Cleaning"
      ],
      "metadata": {
        "id": "9pUgvuLjCC6H"
      }
    },
    {
      "cell_type": "markdown",
      "source": [
        "## Treat Missing Values"
      ],
      "metadata": {
        "id": "C_Px_bJQCEam"
      }
    },
    {
      "cell_type": "code",
      "source": [
        "# Check NAN\n",
        "dataset.isnull().sum()"
      ],
      "metadata": {
        "colab": {
          "base_uri": "https://localhost:8080/",
          "height": 211
        },
        "id": "fU2dftd0CCgV",
        "outputId": "e606e9e4-51bd-4dcb-b79e-10d7af597d3e"
      },
      "execution_count": 119,
      "outputs": [
        {
          "output_type": "execute_result",
          "data": {
            "text/plain": [
              "Clicks         1\n",
              "Impressions    0\n",
              "CPC            1\n",
              "Conversions    0\n",
              "dtype: int64"
            ],
            "text/html": [
              "<div>\n",
              "<style scoped>\n",
              "    .dataframe tbody tr th:only-of-type {\n",
              "        vertical-align: middle;\n",
              "    }\n",
              "\n",
              "    .dataframe tbody tr th {\n",
              "        vertical-align: top;\n",
              "    }\n",
              "\n",
              "    .dataframe thead th {\n",
              "        text-align: right;\n",
              "    }\n",
              "</style>\n",
              "<table border=\"1\" class=\"dataframe\">\n",
              "  <thead>\n",
              "    <tr style=\"text-align: right;\">\n",
              "      <th></th>\n",
              "      <th>0</th>\n",
              "    </tr>\n",
              "  </thead>\n",
              "  <tbody>\n",
              "    <tr>\n",
              "      <th>Clicks</th>\n",
              "      <td>1</td>\n",
              "    </tr>\n",
              "    <tr>\n",
              "      <th>Impressions</th>\n",
              "      <td>0</td>\n",
              "    </tr>\n",
              "    <tr>\n",
              "      <th>CPC</th>\n",
              "      <td>1</td>\n",
              "    </tr>\n",
              "    <tr>\n",
              "      <th>Conversions</th>\n",
              "      <td>0</td>\n",
              "    </tr>\n",
              "  </tbody>\n",
              "</table>\n",
              "</div><br><label><b>dtype:</b> int64</label>"
            ]
          },
          "metadata": {},
          "execution_count": 119
        }
      ]
    },
    {
      "cell_type": "markdown",
      "source": [
        "### Clicks"
      ],
      "metadata": {
        "id": "nkO-dIEZRHzz"
      }
    },
    {
      "cell_type": "code",
      "source": [
        "# Replacing Null with the median as the distribution is asymmetric and has outliers\n",
        "mediana_clicks = dataset['Clicks'].median()\n",
        "dataset['Clicks'].fillna(mediana_clicks, inplace=True)"
      ],
      "metadata": {
        "id": "j-TI9gk3BvHJ"
      },
      "execution_count": 120,
      "outputs": []
    },
    {
      "cell_type": "markdown",
      "source": [
        "### CPC"
      ],
      "metadata": {
        "id": "NzlJkTlmRLBr"
      }
    },
    {
      "cell_type": "code",
      "source": [
        "# Replacing Null with the median as the distribution is asymmetric and has outliers\n",
        "mediana_cpc = dataset['CPC'].median()\n",
        "dataset['CPC'].fillna(mediana_cpc, inplace=True)"
      ],
      "metadata": {
        "id": "vJj_tfruRNwp"
      },
      "execution_count": 37,
      "outputs": []
    },
    {
      "cell_type": "markdown",
      "source": [
        "## Treat Duplicate Values"
      ],
      "metadata": {
        "id": "FNyIL4z3SEca"
      }
    },
    {
      "cell_type": "code",
      "source": [
        "#Checking for duplicates\n",
        "dup = dataset.duplicated()\n",
        "print(dup)"
      ],
      "metadata": {
        "colab": {
          "base_uri": "https://localhost:8080/"
        },
        "id": "StJ3t7xqRtRu",
        "outputId": "eeb25137-a304-4b33-c409-f8f12803d756"
      },
      "execution_count": 121,
      "outputs": [
        {
          "output_type": "stream",
          "name": "stdout",
          "text": [
            "0      False\n",
            "1      False\n",
            "2      False\n",
            "3      False\n",
            "4      False\n",
            "       ...  \n",
            "495    False\n",
            "496    False\n",
            "497    False\n",
            "498    False\n",
            "499    False\n",
            "Length: 500, dtype: bool\n"
          ]
        }
      ]
    },
    {
      "cell_type": "code",
      "source": [
        "num_dup = dataset.duplicated().sum()\n",
        "print(num_dup)"
      ],
      "metadata": {
        "colab": {
          "base_uri": "https://localhost:8080/"
        },
        "id": "h0302XBvR0E6",
        "outputId": "c29415b8-9d3d-4662-86a8-f8c7e0febf97"
      },
      "execution_count": 122,
      "outputs": [
        {
          "output_type": "stream",
          "name": "stdout",
          "text": [
            "1\n"
          ]
        }
      ]
    },
    {
      "cell_type": "markdown",
      "source": [
        "## Treat Outliers"
      ],
      "metadata": {
        "id": "LYgSgSxySwIP"
      }
    },
    {
      "cell_type": "markdown",
      "source": [
        "### Clicks"
      ],
      "metadata": {
        "id": "JwWnKDfuS3d6"
      }
    },
    {
      "cell_type": "code",
      "source": [
        "# Setting an ideal range\n",
        "Q1 = dataset['Clicks'].quantile(0.25)\n",
        "Q3 = dataset['Clicks'].quantile(0.75)\n",
        "IQR = Q3 - Q1\n",
        "limite_inferior = Q1 - 1.5 * IQR\n",
        "limite_superior = Q3 + 1.5 * IQR\n",
        "out_clicks = dataset[(dataset['Clicks'] < limite_inferior) | (dataset['Clicks'] > limite_superior)]\n",
        "print(out_clicks)"
      ],
      "metadata": {
        "colab": {
          "base_uri": "https://localhost:8080/"
        },
        "id": "Wva2DCS2S5NL",
        "outputId": "d75708f4-2cb1-45c4-ad5d-9128bcc82e7a"
      },
      "execution_count": 123,
      "outputs": [
        {
          "output_type": "stream",
          "name": "stdout",
          "text": [
            "Empty DataFrame\n",
            "Columns: [Clicks, Impressions, CPC, Conversions]\n",
            "Index: []\n"
          ]
        }
      ]
    },
    {
      "cell_type": "markdown",
      "source": [
        "### Impressions"
      ],
      "metadata": {
        "id": "CIrgPANwUhlg"
      }
    },
    {
      "cell_type": "code",
      "source": [
        "# Setting an ideal range\n",
        "Q1 = dataset['Impressions'].quantile(0.25)\n",
        "Q3 = dataset['Impressions'].quantile(0.75)\n",
        "IQR = Q3 - Q1\n",
        "limite_inferior = Q1 - 1.5 * IQR\n",
        "limite_superior = Q3 + 1.5 * IQR\n",
        "out_imp = dataset[(dataset['Impressions'] < limite_inferior) | (dataset['Impressions'] > limite_superior)]\n",
        "print(out_imp)"
      ],
      "metadata": {
        "colab": {
          "base_uri": "https://localhost:8080/"
        },
        "id": "QtlwLcY7TqnS",
        "outputId": "2a9743ac-9d3c-4734-e6ea-0c5fd10acb99"
      },
      "execution_count": 124,
      "outputs": [
        {
          "output_type": "stream",
          "name": "stdout",
          "text": [
            "     Clicks  Impressions   CPC  Conversions\n",
            "44    914.0        15883  0.75           52\n",
            "54    957.0        18328  1.02           54\n",
            "61    978.0        16209  0.78           55\n",
            "108   980.0        16228  1.04           52\n",
            "136   991.0        16332  0.50           51\n",
            "137   974.0        16172  0.51           50\n",
            "144   881.0        16004  0.56           45\n",
            "162   854.0        15999  0.50           43\n",
            "188   857.0        15999  0.63           41\n",
            "206   997.0        19414  1.14           47\n",
            "212   896.0        16144  0.63           42\n",
            "215   962.0        15901  0.68           45\n",
            "253   995.0        18230  0.76           45\n",
            "266   868.0        15883  0.83           39\n",
            "301   988.0        16374  1.03           43\n",
            "321   984.0        18411  1.06           42\n",
            "331   997.0        16388  0.58           42\n",
            "336   936.0        15815  0.60           39\n",
            "346   974.0        18328  1.37           40\n",
            "382   929.0        15750  0.72           35\n",
            "394   955.0        15994  0.59           32\n",
            "395   869.0        15891  0.59           29\n",
            "402   955.0        15994  0.61           31\n",
            "405   909.0        17677  1.45           29\n",
            "418   920.0        15901  0.91           28\n",
            "420   928.0        15901  1.31           28\n",
            "421   895.0        16135  1.31           27\n",
            "426   974.0        16172  1.32           29\n",
            "447   955.0        15901  0.64           56\n",
            "448   988.0        19380  1.06           58\n",
            "453   908.0        17668  1.48           53\n"
          ]
        }
      ]
    },
    {
      "cell_type": "markdown",
      "source": [
        "### CPC"
      ],
      "metadata": {
        "id": "v0pC71OXUlSM"
      }
    },
    {
      "cell_type": "code",
      "source": [
        "# Setting an ideal CPC range\n",
        "Q1 = dataset['CPC'].quantile(0.25)\n",
        "Q3 = dataset['CPC'].quantile(0.75)\n",
        "IQR = Q3 - Q1\n",
        "limite_inferior = Q1 - 1.5 * IQR\n",
        "limite_superior = Q3 + 1.5 * IQR\n",
        "out_cpc = dataset[(dataset['CPC'] < limite_inferior) | (dataset['CPC'] > limite_superior)]\n",
        "print(out_cpc)\n"
      ],
      "metadata": {
        "colab": {
          "base_uri": "https://localhost:8080/"
        },
        "id": "X3X99dnGT55w",
        "outputId": "89c25ce2-522b-4a45-f8dc-96453c7440f8"
      },
      "execution_count": 125,
      "outputs": [
        {
          "output_type": "stream",
          "name": "stdout",
          "text": [
            "     Clicks  Impressions    CPC  Conversions\n",
            "242   748.0        10241  250.0           34\n"
          ]
        }
      ]
    },
    {
      "cell_type": "code",
      "source": [
        "# Removing Outliers\n",
        "dataset_new = dataset[(dataset['CPC'] >= limite_inferior) & (dataset['CPC'] <= limite_superior)]\n",
        "dataset_new.shape"
      ],
      "metadata": {
        "colab": {
          "base_uri": "https://localhost:8080/"
        },
        "id": "vcXGFTIvXStf",
        "outputId": "944b192b-5f18-4c99-a50a-46fcd13e4a47"
      },
      "execution_count": 126,
      "outputs": [
        {
          "output_type": "execute_result",
          "data": {
            "text/plain": [
              "(498, 4)"
            ]
          },
          "metadata": {},
          "execution_count": 126
        }
      ]
    },
    {
      "cell_type": "code",
      "source": [
        "# Checking Adjusted CPC\n",
        "dataset.shape\n",
        "dataset['CPC'].describe()"
      ],
      "metadata": {
        "colab": {
          "base_uri": "https://localhost:8080/",
          "height": 336
        },
        "id": "ODcfXHheW9bR",
        "outputId": "89d9869f-261d-4584-fe21-53b40bb76eb8"
      },
      "execution_count": 127,
      "outputs": [
        {
          "output_type": "execute_result",
          "data": {
            "text/plain": [
              "count    499.000000\n",
              "mean       1.359960\n",
              "std       11.155968\n",
              "min        0.440000\n",
              "25%        0.640000\n",
              "50%        0.820000\n",
              "75%        1.100000\n",
              "max      250.000000\n",
              "Name: CPC, dtype: float64"
            ],
            "text/html": [
              "<div>\n",
              "<style scoped>\n",
              "    .dataframe tbody tr th:only-of-type {\n",
              "        vertical-align: middle;\n",
              "    }\n",
              "\n",
              "    .dataframe tbody tr th {\n",
              "        vertical-align: top;\n",
              "    }\n",
              "\n",
              "    .dataframe thead th {\n",
              "        text-align: right;\n",
              "    }\n",
              "</style>\n",
              "<table border=\"1\" class=\"dataframe\">\n",
              "  <thead>\n",
              "    <tr style=\"text-align: right;\">\n",
              "      <th></th>\n",
              "      <th>CPC</th>\n",
              "    </tr>\n",
              "  </thead>\n",
              "  <tbody>\n",
              "    <tr>\n",
              "      <th>count</th>\n",
              "      <td>499.000000</td>\n",
              "    </tr>\n",
              "    <tr>\n",
              "      <th>mean</th>\n",
              "      <td>1.359960</td>\n",
              "    </tr>\n",
              "    <tr>\n",
              "      <th>std</th>\n",
              "      <td>11.155968</td>\n",
              "    </tr>\n",
              "    <tr>\n",
              "      <th>min</th>\n",
              "      <td>0.440000</td>\n",
              "    </tr>\n",
              "    <tr>\n",
              "      <th>25%</th>\n",
              "      <td>0.640000</td>\n",
              "    </tr>\n",
              "    <tr>\n",
              "      <th>50%</th>\n",
              "      <td>0.820000</td>\n",
              "    </tr>\n",
              "    <tr>\n",
              "      <th>75%</th>\n",
              "      <td>1.100000</td>\n",
              "    </tr>\n",
              "    <tr>\n",
              "      <th>max</th>\n",
              "      <td>250.000000</td>\n",
              "    </tr>\n",
              "  </tbody>\n",
              "</table>\n",
              "</div><br><label><b>dtype:</b> float64</label>"
            ]
          },
          "metadata": {},
          "execution_count": 127
        }
      ]
    },
    {
      "cell_type": "markdown",
      "source": [
        "### Conversions"
      ],
      "metadata": {
        "id": "jO594tCRUuTo"
      }
    },
    {
      "cell_type": "code",
      "source": [
        "# Setting an ideal Conversions range\n",
        "Q1 = dataset['Conversions'].quantile(0.25)\n",
        "Q3 = dataset['Conversions'].quantile(0.75)\n",
        "IQR = Q3 - Q1\n",
        "limite_inferior = Q1 - 1.5 * IQR\n",
        "limite_superior = Q3 + 1.5 * IQR\n",
        "out_conv = dataset[(dataset['Conversions'] < limite_inferior) | (dataset['Conversions'] > limite_superior)]\n",
        "print(out_conv)"
      ],
      "metadata": {
        "colab": {
          "base_uri": "https://localhost:8080/"
        },
        "id": "hAfzb7D9UG5U",
        "outputId": "41d9fb9f-7c92-4c3b-e930-4efcfdbc5577"
      },
      "execution_count": 129,
      "outputs": [
        {
          "output_type": "stream",
          "name": "stdout",
          "text": [
            "Empty DataFrame\n",
            "Columns: [Clicks, Impressions, CPC, Conversions]\n",
            "Index: []\n"
          ]
        }
      ]
    },
    {
      "cell_type": "markdown",
      "source": [
        "# Machine Learning"
      ],
      "metadata": {
        "id": "FSl2J1u7y5hT"
      }
    },
    {
      "cell_type": "code",
      "source": [
        "print(dataset_new)"
      ],
      "metadata": {
        "colab": {
          "base_uri": "https://localhost:8080/"
        },
        "id": "jJ9LpeTJy9eu",
        "outputId": "5309b419-87c0-4b62-809b-4ad2fb6ca7c2"
      },
      "execution_count": 131,
      "outputs": [
        {
          "output_type": "stream",
          "name": "stdout",
          "text": [
            "     Clicks  Impressions   CPC  Conversions\n",
            "0     727.0        10080  1.00           44\n",
            "1     719.0         7986  1.13           43\n",
            "2     290.0         3229  1.14           17\n",
            "3     546.0         7272  1.03           32\n",
            "4     273.0         3030  1.03           16\n",
            "..      ...          ...   ...          ...\n",
            "495   561.0         4045  0.80           33\n",
            "496   527.0         4924  0.80           31\n",
            "497   664.0         6666  0.80           39\n",
            "498   545.0         6826  0.80           32\n",
            "499   358.0         3986  0.80           21\n",
            "\n",
            "[498 rows x 4 columns]\n"
          ]
        }
      ]
    },
    {
      "cell_type": "markdown",
      "source": [
        "## Defining Variables"
      ],
      "metadata": {
        "id": "q_VJouVDzJ6Y"
      }
    },
    {
      "cell_type": "code",
      "source": [
        "X = dataset_new[['Clicks', 'Impressions', 'CPC']]\n",
        "y = dataset_new['Conversions']"
      ],
      "metadata": {
        "id": "5ztYs4TszMl4"
      },
      "execution_count": 132,
      "outputs": []
    },
    {
      "cell_type": "markdown",
      "source": [
        "## Training and Test"
      ],
      "metadata": {
        "id": "RFzYbCT4zOh8"
      }
    },
    {
      "cell_type": "code",
      "source": [
        "X_train, X_test, y_train, y_test = train_test_split(X, y, test_size=0.2, random_state=42)\n"
      ],
      "metadata": {
        "id": "DGBm3R2qzR0y"
      },
      "execution_count": 133,
      "outputs": []
    },
    {
      "cell_type": "code",
      "source": [
        "scaler = StandardScaler()"
      ],
      "metadata": {
        "id": "iVJ_QAkA0LVY"
      },
      "execution_count": 134,
      "outputs": []
    },
    {
      "cell_type": "code",
      "source": [
        "X_train_scaled = scaler.fit_transform(X_train)"
      ],
      "metadata": {
        "id": "78mTCUfM0zHX"
      },
      "execution_count": 135,
      "outputs": []
    },
    {
      "cell_type": "code",
      "source": [
        "X_test_scaled = scaler.transform(X_test)"
      ],
      "metadata": {
        "id": "R_5JlNB5019S"
      },
      "execution_count": 136,
      "outputs": []
    },
    {
      "cell_type": "markdown",
      "source": [
        "## Linear Regression Model"
      ],
      "metadata": {
        "id": "VJpR8kUgzVe6"
      }
    },
    {
      "cell_type": "code",
      "source": [
        "linear_model = LinearRegression()"
      ],
      "metadata": {
        "id": "5FVhM2cTzYRK"
      },
      "execution_count": 137,
      "outputs": []
    },
    {
      "cell_type": "code",
      "source": [
        "linear_model.fit(X_train, y_train)"
      ],
      "metadata": {
        "colab": {
          "base_uri": "https://localhost:8080/",
          "height": 75
        },
        "id": "F7DJGM394EEf",
        "outputId": "ca7ee890-907d-4297-b486-a3c0de887fee"
      },
      "execution_count": 138,
      "outputs": [
        {
          "output_type": "execute_result",
          "data": {
            "text/plain": [
              "LinearRegression()"
            ],
            "text/html": [
              "<style>#sk-container-id-5 {color: black;}#sk-container-id-5 pre{padding: 0;}#sk-container-id-5 div.sk-toggleable {background-color: white;}#sk-container-id-5 label.sk-toggleable__label {cursor: pointer;display: block;width: 100%;margin-bottom: 0;padding: 0.3em;box-sizing: border-box;text-align: center;}#sk-container-id-5 label.sk-toggleable__label-arrow:before {content: \"▸\";float: left;margin-right: 0.25em;color: #696969;}#sk-container-id-5 label.sk-toggleable__label-arrow:hover:before {color: black;}#sk-container-id-5 div.sk-estimator:hover label.sk-toggleable__label-arrow:before {color: black;}#sk-container-id-5 div.sk-toggleable__content {max-height: 0;max-width: 0;overflow: hidden;text-align: left;background-color: #f0f8ff;}#sk-container-id-5 div.sk-toggleable__content pre {margin: 0.2em;color: black;border-radius: 0.25em;background-color: #f0f8ff;}#sk-container-id-5 input.sk-toggleable__control:checked~div.sk-toggleable__content {max-height: 200px;max-width: 100%;overflow: auto;}#sk-container-id-5 input.sk-toggleable__control:checked~label.sk-toggleable__label-arrow:before {content: \"▾\";}#sk-container-id-5 div.sk-estimator input.sk-toggleable__control:checked~label.sk-toggleable__label {background-color: #d4ebff;}#sk-container-id-5 div.sk-label input.sk-toggleable__control:checked~label.sk-toggleable__label {background-color: #d4ebff;}#sk-container-id-5 input.sk-hidden--visually {border: 0;clip: rect(1px 1px 1px 1px);clip: rect(1px, 1px, 1px, 1px);height: 1px;margin: -1px;overflow: hidden;padding: 0;position: absolute;width: 1px;}#sk-container-id-5 div.sk-estimator {font-family: monospace;background-color: #f0f8ff;border: 1px dotted black;border-radius: 0.25em;box-sizing: border-box;margin-bottom: 0.5em;}#sk-container-id-5 div.sk-estimator:hover {background-color: #d4ebff;}#sk-container-id-5 div.sk-parallel-item::after {content: \"\";width: 100%;border-bottom: 1px solid gray;flex-grow: 1;}#sk-container-id-5 div.sk-label:hover label.sk-toggleable__label {background-color: #d4ebff;}#sk-container-id-5 div.sk-serial::before {content: \"\";position: absolute;border-left: 1px solid gray;box-sizing: border-box;top: 0;bottom: 0;left: 50%;z-index: 0;}#sk-container-id-5 div.sk-serial {display: flex;flex-direction: column;align-items: center;background-color: white;padding-right: 0.2em;padding-left: 0.2em;position: relative;}#sk-container-id-5 div.sk-item {position: relative;z-index: 1;}#sk-container-id-5 div.sk-parallel {display: flex;align-items: stretch;justify-content: center;background-color: white;position: relative;}#sk-container-id-5 div.sk-item::before, #sk-container-id-5 div.sk-parallel-item::before {content: \"\";position: absolute;border-left: 1px solid gray;box-sizing: border-box;top: 0;bottom: 0;left: 50%;z-index: -1;}#sk-container-id-5 div.sk-parallel-item {display: flex;flex-direction: column;z-index: 1;position: relative;background-color: white;}#sk-container-id-5 div.sk-parallel-item:first-child::after {align-self: flex-end;width: 50%;}#sk-container-id-5 div.sk-parallel-item:last-child::after {align-self: flex-start;width: 50%;}#sk-container-id-5 div.sk-parallel-item:only-child::after {width: 0;}#sk-container-id-5 div.sk-dashed-wrapped {border: 1px dashed gray;margin: 0 0.4em 0.5em 0.4em;box-sizing: border-box;padding-bottom: 0.4em;background-color: white;}#sk-container-id-5 div.sk-label label {font-family: monospace;font-weight: bold;display: inline-block;line-height: 1.2em;}#sk-container-id-5 div.sk-label-container {text-align: center;}#sk-container-id-5 div.sk-container {/* jupyter's `normalize.less` sets `[hidden] { display: none; }` but bootstrap.min.css set `[hidden] { display: none !important; }` so we also need the `!important` here to be able to override the default hidden behavior on the sphinx rendered scikit-learn.org. See: https://github.com/scikit-learn/scikit-learn/issues/21755 */display: inline-block !important;position: relative;}#sk-container-id-5 div.sk-text-repr-fallback {display: none;}</style><div id=\"sk-container-id-5\" class=\"sk-top-container\"><div class=\"sk-text-repr-fallback\"><pre>LinearRegression()</pre><b>In a Jupyter environment, please rerun this cell to show the HTML representation or trust the notebook. <br />On GitHub, the HTML representation is unable to render, please try loading this page with nbviewer.org.</b></div><div class=\"sk-container\" hidden><div class=\"sk-item\"><div class=\"sk-estimator sk-toggleable\"><input class=\"sk-toggleable__control sk-hidden--visually\" id=\"sk-estimator-id-5\" type=\"checkbox\" checked><label for=\"sk-estimator-id-5\" class=\"sk-toggleable__label sk-toggleable__label-arrow\">LinearRegression</label><div class=\"sk-toggleable__content\"><pre>LinearRegression()</pre></div></div></div></div></div>"
            ]
          },
          "metadata": {},
          "execution_count": 138
        }
      ]
    },
    {
      "cell_type": "code",
      "source": [
        "y_pred = linear_model.predict(X_test)"
      ],
      "metadata": {
        "id": "Erg8hUft4G_d"
      },
      "execution_count": 139,
      "outputs": []
    },
    {
      "cell_type": "code",
      "source": [
        "linear_model.fit(X_train, y_train)"
      ],
      "metadata": {
        "colab": {
          "base_uri": "https://localhost:8080/",
          "height": 75
        },
        "id": "cKmZdImKzc-2",
        "outputId": "14db60c1-2d12-47e7-9d29-d7a299fec9ca"
      },
      "execution_count": 140,
      "outputs": [
        {
          "output_type": "execute_result",
          "data": {
            "text/plain": [
              "LinearRegression()"
            ],
            "text/html": [
              "<style>#sk-container-id-6 {color: black;}#sk-container-id-6 pre{padding: 0;}#sk-container-id-6 div.sk-toggleable {background-color: white;}#sk-container-id-6 label.sk-toggleable__label {cursor: pointer;display: block;width: 100%;margin-bottom: 0;padding: 0.3em;box-sizing: border-box;text-align: center;}#sk-container-id-6 label.sk-toggleable__label-arrow:before {content: \"▸\";float: left;margin-right: 0.25em;color: #696969;}#sk-container-id-6 label.sk-toggleable__label-arrow:hover:before {color: black;}#sk-container-id-6 div.sk-estimator:hover label.sk-toggleable__label-arrow:before {color: black;}#sk-container-id-6 div.sk-toggleable__content {max-height: 0;max-width: 0;overflow: hidden;text-align: left;background-color: #f0f8ff;}#sk-container-id-6 div.sk-toggleable__content pre {margin: 0.2em;color: black;border-radius: 0.25em;background-color: #f0f8ff;}#sk-container-id-6 input.sk-toggleable__control:checked~div.sk-toggleable__content {max-height: 200px;max-width: 100%;overflow: auto;}#sk-container-id-6 input.sk-toggleable__control:checked~label.sk-toggleable__label-arrow:before {content: \"▾\";}#sk-container-id-6 div.sk-estimator input.sk-toggleable__control:checked~label.sk-toggleable__label {background-color: #d4ebff;}#sk-container-id-6 div.sk-label input.sk-toggleable__control:checked~label.sk-toggleable__label {background-color: #d4ebff;}#sk-container-id-6 input.sk-hidden--visually {border: 0;clip: rect(1px 1px 1px 1px);clip: rect(1px, 1px, 1px, 1px);height: 1px;margin: -1px;overflow: hidden;padding: 0;position: absolute;width: 1px;}#sk-container-id-6 div.sk-estimator {font-family: monospace;background-color: #f0f8ff;border: 1px dotted black;border-radius: 0.25em;box-sizing: border-box;margin-bottom: 0.5em;}#sk-container-id-6 div.sk-estimator:hover {background-color: #d4ebff;}#sk-container-id-6 div.sk-parallel-item::after {content: \"\";width: 100%;border-bottom: 1px solid gray;flex-grow: 1;}#sk-container-id-6 div.sk-label:hover label.sk-toggleable__label {background-color: #d4ebff;}#sk-container-id-6 div.sk-serial::before {content: \"\";position: absolute;border-left: 1px solid gray;box-sizing: border-box;top: 0;bottom: 0;left: 50%;z-index: 0;}#sk-container-id-6 div.sk-serial {display: flex;flex-direction: column;align-items: center;background-color: white;padding-right: 0.2em;padding-left: 0.2em;position: relative;}#sk-container-id-6 div.sk-item {position: relative;z-index: 1;}#sk-container-id-6 div.sk-parallel {display: flex;align-items: stretch;justify-content: center;background-color: white;position: relative;}#sk-container-id-6 div.sk-item::before, #sk-container-id-6 div.sk-parallel-item::before {content: \"\";position: absolute;border-left: 1px solid gray;box-sizing: border-box;top: 0;bottom: 0;left: 50%;z-index: -1;}#sk-container-id-6 div.sk-parallel-item {display: flex;flex-direction: column;z-index: 1;position: relative;background-color: white;}#sk-container-id-6 div.sk-parallel-item:first-child::after {align-self: flex-end;width: 50%;}#sk-container-id-6 div.sk-parallel-item:last-child::after {align-self: flex-start;width: 50%;}#sk-container-id-6 div.sk-parallel-item:only-child::after {width: 0;}#sk-container-id-6 div.sk-dashed-wrapped {border: 1px dashed gray;margin: 0 0.4em 0.5em 0.4em;box-sizing: border-box;padding-bottom: 0.4em;background-color: white;}#sk-container-id-6 div.sk-label label {font-family: monospace;font-weight: bold;display: inline-block;line-height: 1.2em;}#sk-container-id-6 div.sk-label-container {text-align: center;}#sk-container-id-6 div.sk-container {/* jupyter's `normalize.less` sets `[hidden] { display: none; }` but bootstrap.min.css set `[hidden] { display: none !important; }` so we also need the `!important` here to be able to override the default hidden behavior on the sphinx rendered scikit-learn.org. See: https://github.com/scikit-learn/scikit-learn/issues/21755 */display: inline-block !important;position: relative;}#sk-container-id-6 div.sk-text-repr-fallback {display: none;}</style><div id=\"sk-container-id-6\" class=\"sk-top-container\"><div class=\"sk-text-repr-fallback\"><pre>LinearRegression()</pre><b>In a Jupyter environment, please rerun this cell to show the HTML representation or trust the notebook. <br />On GitHub, the HTML representation is unable to render, please try loading this page with nbviewer.org.</b></div><div class=\"sk-container\" hidden><div class=\"sk-item\"><div class=\"sk-estimator sk-toggleable\"><input class=\"sk-toggleable__control sk-hidden--visually\" id=\"sk-estimator-id-6\" type=\"checkbox\" checked><label for=\"sk-estimator-id-6\" class=\"sk-toggleable__label sk-toggleable__label-arrow\">LinearRegression</label><div class=\"sk-toggleable__content\"><pre>LinearRegression()</pre></div></div></div></div></div>"
            ]
          },
          "metadata": {},
          "execution_count": 140
        }
      ]
    },
    {
      "cell_type": "code",
      "source": [
        "mse = mean_squared_error(y_test, y_pred)\n",
        "r2 = r2_score(y_test, y_pred)\n",
        "coefficients = pd.DataFrame(linear_model.coef_, X.columns, columns=['Coefficient'])"
      ],
      "metadata": {
        "id": "7P-ao-M14JSH"
      },
      "execution_count": 141,
      "outputs": []
    },
    {
      "cell_type": "code",
      "source": [
        "print(\"Mean Squared Error (MSE):\", mse)\n",
        "print(\"R² Score:\", r2)\n",
        "print(\"Coeficientes:\\n\", coefficients)\n",
        "print(\"Intercepto:\", linear_model.intercept_)"
      ],
      "metadata": {
        "colab": {
          "base_uri": "https://localhost:8080/"
        },
        "id": "zrSu9yqH4LhL",
        "outputId": "2abd3a79-383a-46f7-cc2e-fa407948c901"
      },
      "execution_count": 142,
      "outputs": [
        {
          "output_type": "stream",
          "name": "stdout",
          "text": [
            "Mean Squared Error (MSE): 33.043839973645916\n",
            "R² Score: 0.7411450807719473\n",
            "Coeficientes:\n",
            "              Coefficient\n",
            "Clicks          0.046012\n",
            "Impressions    -0.000128\n",
            "CPC             1.363398\n",
            "Intercepto: 0.9185003049007321\n"
          ]
        }
      ]
    },
    {
      "cell_type": "code",
      "source": [
        "formula_linear = f\"Y = {linear_model.intercept_:.4f}\"\n",
        "for i, coef in enumerate(linear_model.coef_):\n",
        "    formula_linear += f\" + {coef:.4f} * X{i + 1}\""
      ],
      "metadata": {
        "id": "Et8bNIL_80GB"
      },
      "execution_count": 143,
      "outputs": []
    },
    {
      "cell_type": "code",
      "source": [
        "print(\"Multiple Linear Regression:\")\n",
        "print(formula_linear)"
      ],
      "metadata": {
        "colab": {
          "base_uri": "https://localhost:8080/"
        },
        "id": "jV28xBlY89RI",
        "outputId": "e6a3b1d6-3a78-4eb9-d1a5-18dac5e22ed3"
      },
      "execution_count": 144,
      "outputs": [
        {
          "output_type": "stream",
          "name": "stdout",
          "text": [
            "Multiple Linear Regression:\n",
            "Y = 0.9185 + 0.0460 * X1 + -0.0001 * X2 + 1.3634 * X3\n"
          ]
        }
      ]
    },
    {
      "cell_type": "markdown",
      "source": [
        "## Ridge Model"
      ],
      "metadata": {
        "id": "PKIee8uZ2UGG"
      }
    },
    {
      "cell_type": "code",
      "source": [
        "ridge_model = Ridge(alpha=1.0)  # O parâmetro alpha controla a penalização\n",
        "ridge_model.fit(X_train, y_train)\n"
      ],
      "metadata": {
        "colab": {
          "base_uri": "https://localhost:8080/",
          "height": 75
        },
        "id": "jAkTEYdt2SVh",
        "outputId": "dc3af16c-4f1b-443f-e764-95d2bb27f6e1"
      },
      "execution_count": 145,
      "outputs": [
        {
          "output_type": "execute_result",
          "data": {
            "text/plain": [
              "Ridge()"
            ],
            "text/html": [
              "<style>#sk-container-id-7 {color: black;}#sk-container-id-7 pre{padding: 0;}#sk-container-id-7 div.sk-toggleable {background-color: white;}#sk-container-id-7 label.sk-toggleable__label {cursor: pointer;display: block;width: 100%;margin-bottom: 0;padding: 0.3em;box-sizing: border-box;text-align: center;}#sk-container-id-7 label.sk-toggleable__label-arrow:before {content: \"▸\";float: left;margin-right: 0.25em;color: #696969;}#sk-container-id-7 label.sk-toggleable__label-arrow:hover:before {color: black;}#sk-container-id-7 div.sk-estimator:hover label.sk-toggleable__label-arrow:before {color: black;}#sk-container-id-7 div.sk-toggleable__content {max-height: 0;max-width: 0;overflow: hidden;text-align: left;background-color: #f0f8ff;}#sk-container-id-7 div.sk-toggleable__content pre {margin: 0.2em;color: black;border-radius: 0.25em;background-color: #f0f8ff;}#sk-container-id-7 input.sk-toggleable__control:checked~div.sk-toggleable__content {max-height: 200px;max-width: 100%;overflow: auto;}#sk-container-id-7 input.sk-toggleable__control:checked~label.sk-toggleable__label-arrow:before {content: \"▾\";}#sk-container-id-7 div.sk-estimator input.sk-toggleable__control:checked~label.sk-toggleable__label {background-color: #d4ebff;}#sk-container-id-7 div.sk-label input.sk-toggleable__control:checked~label.sk-toggleable__label {background-color: #d4ebff;}#sk-container-id-7 input.sk-hidden--visually {border: 0;clip: rect(1px 1px 1px 1px);clip: rect(1px, 1px, 1px, 1px);height: 1px;margin: -1px;overflow: hidden;padding: 0;position: absolute;width: 1px;}#sk-container-id-7 div.sk-estimator {font-family: monospace;background-color: #f0f8ff;border: 1px dotted black;border-radius: 0.25em;box-sizing: border-box;margin-bottom: 0.5em;}#sk-container-id-7 div.sk-estimator:hover {background-color: #d4ebff;}#sk-container-id-7 div.sk-parallel-item::after {content: \"\";width: 100%;border-bottom: 1px solid gray;flex-grow: 1;}#sk-container-id-7 div.sk-label:hover label.sk-toggleable__label {background-color: #d4ebff;}#sk-container-id-7 div.sk-serial::before {content: \"\";position: absolute;border-left: 1px solid gray;box-sizing: border-box;top: 0;bottom: 0;left: 50%;z-index: 0;}#sk-container-id-7 div.sk-serial {display: flex;flex-direction: column;align-items: center;background-color: white;padding-right: 0.2em;padding-left: 0.2em;position: relative;}#sk-container-id-7 div.sk-item {position: relative;z-index: 1;}#sk-container-id-7 div.sk-parallel {display: flex;align-items: stretch;justify-content: center;background-color: white;position: relative;}#sk-container-id-7 div.sk-item::before, #sk-container-id-7 div.sk-parallel-item::before {content: \"\";position: absolute;border-left: 1px solid gray;box-sizing: border-box;top: 0;bottom: 0;left: 50%;z-index: -1;}#sk-container-id-7 div.sk-parallel-item {display: flex;flex-direction: column;z-index: 1;position: relative;background-color: white;}#sk-container-id-7 div.sk-parallel-item:first-child::after {align-self: flex-end;width: 50%;}#sk-container-id-7 div.sk-parallel-item:last-child::after {align-self: flex-start;width: 50%;}#sk-container-id-7 div.sk-parallel-item:only-child::after {width: 0;}#sk-container-id-7 div.sk-dashed-wrapped {border: 1px dashed gray;margin: 0 0.4em 0.5em 0.4em;box-sizing: border-box;padding-bottom: 0.4em;background-color: white;}#sk-container-id-7 div.sk-label label {font-family: monospace;font-weight: bold;display: inline-block;line-height: 1.2em;}#sk-container-id-7 div.sk-label-container {text-align: center;}#sk-container-id-7 div.sk-container {/* jupyter's `normalize.less` sets `[hidden] { display: none; }` but bootstrap.min.css set `[hidden] { display: none !important; }` so we also need the `!important` here to be able to override the default hidden behavior on the sphinx rendered scikit-learn.org. See: https://github.com/scikit-learn/scikit-learn/issues/21755 */display: inline-block !important;position: relative;}#sk-container-id-7 div.sk-text-repr-fallback {display: none;}</style><div id=\"sk-container-id-7\" class=\"sk-top-container\"><div class=\"sk-text-repr-fallback\"><pre>Ridge()</pre><b>In a Jupyter environment, please rerun this cell to show the HTML representation or trust the notebook. <br />On GitHub, the HTML representation is unable to render, please try loading this page with nbviewer.org.</b></div><div class=\"sk-container\" hidden><div class=\"sk-item\"><div class=\"sk-estimator sk-toggleable\"><input class=\"sk-toggleable__control sk-hidden--visually\" id=\"sk-estimator-id-7\" type=\"checkbox\" checked><label for=\"sk-estimator-id-7\" class=\"sk-toggleable__label sk-toggleable__label-arrow\">Ridge</label><div class=\"sk-toggleable__content\"><pre>Ridge()</pre></div></div></div></div></div>"
            ]
          },
          "metadata": {},
          "execution_count": 145
        }
      ]
    },
    {
      "cell_type": "code",
      "source": [
        "y_pred_ridge = ridge_model.predict(X_test)"
      ],
      "metadata": {
        "id": "SlhoZl4I2b5R"
      },
      "execution_count": 146,
      "outputs": []
    },
    {
      "cell_type": "code",
      "source": [
        "mse_ridge = mean_squared_error(y_test, y_pred_ridge)\n",
        "r2_ridge = r2_score(y_test, y_pred_ridge)"
      ],
      "metadata": {
        "id": "7_sIpa1L2fR5"
      },
      "execution_count": 147,
      "outputs": []
    },
    {
      "cell_type": "code",
      "source": [
        "print(\"Ridge Model:\")\n",
        "print(\"Mean Squared Error (MSE):\", mse_ridge)\n",
        "print(\"R² Score:\", r2_ridge)\n",
        "print(\"Coefficient Ridge:\\n\", pd.DataFrame(ridge_model.coef_, X.columns, columns=['Coefficient']))\n",
        "print(\"Intercepto Ridge:\", ridge_model.intercept_)"
      ],
      "metadata": {
        "colab": {
          "base_uri": "https://localhost:8080/"
        },
        "id": "miCDjD9l2l5n",
        "outputId": "454ee6a9-dd88-4e42-e736-bb8551d7e0b4"
      },
      "execution_count": 148,
      "outputs": [
        {
          "output_type": "stream",
          "name": "stdout",
          "text": [
            "Ridge Model:\n",
            "Mean Squared Error (MSE): 33.02796315770247\n",
            "R² Score: 0.741269454691925\n",
            "Coefficient Ridge:\n",
            "              Coefficient\n",
            "Clicks          0.046007\n",
            "Impressions    -0.000127\n",
            "CPC             1.312691\n",
            "Intercepto Ridge: 0.9608196718001452\n"
          ]
        }
      ]
    },
    {
      "cell_type": "code",
      "source": [
        "formula_ridge = f\"Y = {ridge_model.intercept_:.4f}\"\n",
        "for i, coef in enumerate(ridge_model.coef_):\n",
        "    formula_ridge += f\" + {coef:.4f} * X{i + 1}\""
      ],
      "metadata": {
        "id": "JoVdc4048cis"
      },
      "execution_count": 149,
      "outputs": []
    },
    {
      "cell_type": "code",
      "source": [
        "print(\"Ridge Model Formula:\")\n",
        "print(formula_ridge)"
      ],
      "metadata": {
        "colab": {
          "base_uri": "https://localhost:8080/"
        },
        "id": "08zBg5C08fQm",
        "outputId": "cd921793-c677-4d8b-c28f-21bc9e8bb09e"
      },
      "execution_count": 150,
      "outputs": [
        {
          "output_type": "stream",
          "name": "stdout",
          "text": [
            "Ridge Model Formula:\n",
            "Y = 0.9608 + 0.0460 * X1 + -0.0001 * X2 + 1.3127 * X3\n"
          ]
        }
      ]
    },
    {
      "cell_type": "markdown",
      "source": [
        "## Lasso Model"
      ],
      "metadata": {
        "id": "W4GVtKJ-3n4d"
      }
    },
    {
      "cell_type": "code",
      "source": [
        "lasso_model = Lasso(alpha=0.01)  # O parâmetro alpha controla a penalização\n",
        "lasso_model.fit(X_train, y_train)"
      ],
      "metadata": {
        "colab": {
          "base_uri": "https://localhost:8080/",
          "height": 75
        },
        "id": "RhGHIX0j2okt",
        "outputId": "eb4b759d-fdee-43e1-c8ab-044cf541d68a"
      },
      "execution_count": 151,
      "outputs": [
        {
          "output_type": "execute_result",
          "data": {
            "text/plain": [
              "Lasso(alpha=0.01)"
            ],
            "text/html": [
              "<style>#sk-container-id-8 {color: black;}#sk-container-id-8 pre{padding: 0;}#sk-container-id-8 div.sk-toggleable {background-color: white;}#sk-container-id-8 label.sk-toggleable__label {cursor: pointer;display: block;width: 100%;margin-bottom: 0;padding: 0.3em;box-sizing: border-box;text-align: center;}#sk-container-id-8 label.sk-toggleable__label-arrow:before {content: \"▸\";float: left;margin-right: 0.25em;color: #696969;}#sk-container-id-8 label.sk-toggleable__label-arrow:hover:before {color: black;}#sk-container-id-8 div.sk-estimator:hover label.sk-toggleable__label-arrow:before {color: black;}#sk-container-id-8 div.sk-toggleable__content {max-height: 0;max-width: 0;overflow: hidden;text-align: left;background-color: #f0f8ff;}#sk-container-id-8 div.sk-toggleable__content pre {margin: 0.2em;color: black;border-radius: 0.25em;background-color: #f0f8ff;}#sk-container-id-8 input.sk-toggleable__control:checked~div.sk-toggleable__content {max-height: 200px;max-width: 100%;overflow: auto;}#sk-container-id-8 input.sk-toggleable__control:checked~label.sk-toggleable__label-arrow:before {content: \"▾\";}#sk-container-id-8 div.sk-estimator input.sk-toggleable__control:checked~label.sk-toggleable__label {background-color: #d4ebff;}#sk-container-id-8 div.sk-label input.sk-toggleable__control:checked~label.sk-toggleable__label {background-color: #d4ebff;}#sk-container-id-8 input.sk-hidden--visually {border: 0;clip: rect(1px 1px 1px 1px);clip: rect(1px, 1px, 1px, 1px);height: 1px;margin: -1px;overflow: hidden;padding: 0;position: absolute;width: 1px;}#sk-container-id-8 div.sk-estimator {font-family: monospace;background-color: #f0f8ff;border: 1px dotted black;border-radius: 0.25em;box-sizing: border-box;margin-bottom: 0.5em;}#sk-container-id-8 div.sk-estimator:hover {background-color: #d4ebff;}#sk-container-id-8 div.sk-parallel-item::after {content: \"\";width: 100%;border-bottom: 1px solid gray;flex-grow: 1;}#sk-container-id-8 div.sk-label:hover label.sk-toggleable__label {background-color: #d4ebff;}#sk-container-id-8 div.sk-serial::before {content: \"\";position: absolute;border-left: 1px solid gray;box-sizing: border-box;top: 0;bottom: 0;left: 50%;z-index: 0;}#sk-container-id-8 div.sk-serial {display: flex;flex-direction: column;align-items: center;background-color: white;padding-right: 0.2em;padding-left: 0.2em;position: relative;}#sk-container-id-8 div.sk-item {position: relative;z-index: 1;}#sk-container-id-8 div.sk-parallel {display: flex;align-items: stretch;justify-content: center;background-color: white;position: relative;}#sk-container-id-8 div.sk-item::before, #sk-container-id-8 div.sk-parallel-item::before {content: \"\";position: absolute;border-left: 1px solid gray;box-sizing: border-box;top: 0;bottom: 0;left: 50%;z-index: -1;}#sk-container-id-8 div.sk-parallel-item {display: flex;flex-direction: column;z-index: 1;position: relative;background-color: white;}#sk-container-id-8 div.sk-parallel-item:first-child::after {align-self: flex-end;width: 50%;}#sk-container-id-8 div.sk-parallel-item:last-child::after {align-self: flex-start;width: 50%;}#sk-container-id-8 div.sk-parallel-item:only-child::after {width: 0;}#sk-container-id-8 div.sk-dashed-wrapped {border: 1px dashed gray;margin: 0 0.4em 0.5em 0.4em;box-sizing: border-box;padding-bottom: 0.4em;background-color: white;}#sk-container-id-8 div.sk-label label {font-family: monospace;font-weight: bold;display: inline-block;line-height: 1.2em;}#sk-container-id-8 div.sk-label-container {text-align: center;}#sk-container-id-8 div.sk-container {/* jupyter's `normalize.less` sets `[hidden] { display: none; }` but bootstrap.min.css set `[hidden] { display: none !important; }` so we also need the `!important` here to be able to override the default hidden behavior on the sphinx rendered scikit-learn.org. See: https://github.com/scikit-learn/scikit-learn/issues/21755 */display: inline-block !important;position: relative;}#sk-container-id-8 div.sk-text-repr-fallback {display: none;}</style><div id=\"sk-container-id-8\" class=\"sk-top-container\"><div class=\"sk-text-repr-fallback\"><pre>Lasso(alpha=0.01)</pre><b>In a Jupyter environment, please rerun this cell to show the HTML representation or trust the notebook. <br />On GitHub, the HTML representation is unable to render, please try loading this page with nbviewer.org.</b></div><div class=\"sk-container\" hidden><div class=\"sk-item\"><div class=\"sk-estimator sk-toggleable\"><input class=\"sk-toggleable__control sk-hidden--visually\" id=\"sk-estimator-id-8\" type=\"checkbox\" checked><label for=\"sk-estimator-id-8\" class=\"sk-toggleable__label sk-toggleable__label-arrow\">Lasso</label><div class=\"sk-toggleable__content\"><pre>Lasso(alpha=0.01)</pre></div></div></div></div></div>"
            ]
          },
          "metadata": {},
          "execution_count": 151
        }
      ]
    },
    {
      "cell_type": "code",
      "source": [
        "y_pred_lasso = lasso_model.predict(X_test)"
      ],
      "metadata": {
        "id": "PPpvtMoQ2qVj"
      },
      "execution_count": 152,
      "outputs": []
    },
    {
      "cell_type": "code",
      "source": [
        "mse_lasso = mean_squared_error(y_test, y_pred_lasso)\n",
        "r2_lasso = r2_score(y_test, y_pred_lasso)"
      ],
      "metadata": {
        "id": "BfII9eZK2rgk"
      },
      "execution_count": 153,
      "outputs": []
    },
    {
      "cell_type": "code",
      "source": [
        "print(\"Lasso Model:\")\n",
        "print(\"Mean Squared Error (MSE):\", mse_lasso)\n",
        "print(\"R² Score:\", r2_lasso)\n",
        "print(\"Coeficientes Lasso:\\n\", pd.DataFrame(lasso_model.coef_, X.columns, columns=['Coefficient']))\n",
        "print(\"Intercepto Lasso:\", lasso_model.intercept_)"
      ],
      "metadata": {
        "colab": {
          "base_uri": "https://localhost:8080/"
        },
        "id": "ivfjCg1z3w62",
        "outputId": "978a5641-677f-45cb-91ca-f44f443438d9"
      },
      "execution_count": 154,
      "outputs": [
        {
          "output_type": "stream",
          "name": "stdout",
          "text": [
            "Lasso Model:\n",
            "Mean Squared Error (MSE): 32.996728143418\n",
            "R² Score: 0.7415141398467419\n",
            "Coeficientes Lasso:\n",
            "              Coefficient\n",
            "Clicks          0.045995\n",
            "Impressions    -0.000126\n",
            "CPC             1.209639\n",
            "Intercepto Lasso: 1.0469451104463623\n"
          ]
        }
      ]
    },
    {
      "cell_type": "code",
      "source": [
        "formula_lasso = f\"Y = {lasso_model.intercept_:.4f}\"\n",
        "for i, coef in enumerate(lasso_model.coef_):\n",
        "    if coef != 0:  # Excluir características com coeficiente zero\n",
        "        formula_lasso += f\" + {coef:.4f} * X{i + 1}\""
      ],
      "metadata": {
        "id": "yPaB184N7fcX"
      },
      "execution_count": 71,
      "outputs": []
    },
    {
      "cell_type": "code",
      "source": [
        "print(\"Lasso Model Formula:\")\n",
        "print(formula_lasso)"
      ],
      "metadata": {
        "colab": {
          "base_uri": "https://localhost:8080/"
        },
        "id": "u5GvDsWk7qNR",
        "outputId": "bebddb22-0f07-42c1-b160-7d4ab198a425"
      },
      "execution_count": 155,
      "outputs": [
        {
          "output_type": "stream",
          "name": "stdout",
          "text": [
            "Lasso Model Formula:\n",
            "Y = 1.7611 + 0.0456 * X1 + -0.0001 * X2 + -0.0049 * X3\n"
          ]
        }
      ]
    },
    {
      "cell_type": "markdown",
      "source": [
        "## Model Formulas"
      ],
      "metadata": {
        "id": "mv8em1rGD-8n"
      }
    },
    {
      "cell_type": "code",
      "source": [
        "print(\"Formulas:\")\n",
        "print(\"Multiple Regression:\",formula_linear)\n",
        "print(\"Ridge Regression:\",formula_ridge)\n",
        "print(\"Lasso Regression:\",formula_lasso)"
      ],
      "metadata": {
        "colab": {
          "base_uri": "https://localhost:8080/"
        },
        "id": "9UoC40xV9JAO",
        "outputId": "4b22b8fd-316b-46c3-a955-21c508ae6a80"
      },
      "execution_count": 156,
      "outputs": [
        {
          "output_type": "stream",
          "name": "stdout",
          "text": [
            "Formulas:\n",
            "Multiple Regression: Y = 0.9185 + 0.0460 * X1 + -0.0001 * X2 + 1.3634 * X3\n",
            "Ridge Regression: Y = 0.9608 + 0.0460 * X1 + -0.0001 * X2 + 1.3127 * X3\n",
            "Lasso Regression: Y = 1.7611 + 0.0456 * X1 + -0.0001 * X2 + -0.0049 * X3\n"
          ]
        }
      ]
    },
    {
      "cell_type": "markdown",
      "source": [
        "## Data Input and Results\n"
      ],
      "metadata": {
        "id": "ZG9aNESa4a84"
      }
    },
    {
      "cell_type": "markdown",
      "source": [
        "### Data Input"
      ],
      "metadata": {
        "id": "FoapAzQLERIf"
      }
    },
    {
      "cell_type": "code",
      "source": [
        "data_input = pd.DataFrame({\n",
        "    'Clicks': [50],        # Número de cliques\n",
        "    'Impressions': [1000],  # Número de impressões\n",
        "    'CPC': [1],           # Custo por clique\n",
        "})"
      ],
      "metadata": {
        "id": "LdazrUnL4dDf"
      },
      "execution_count": 157,
      "outputs": []
    },
    {
      "cell_type": "markdown",
      "source": [
        "### Linear Regression Results"
      ],
      "metadata": {
        "id": "ufZwejby6WN9"
      }
    },
    {
      "cell_type": "code",
      "source": [
        "linear_prediction = linear_model.predict(data_input)"
      ],
      "metadata": {
        "id": "7l3arA8L6cJ8"
      },
      "execution_count": 158,
      "outputs": []
    },
    {
      "cell_type": "code",
      "source": [
        "print(f\"Predicted Conversions - Multiple Regression: {linear_prediction[0]:.2f}\")"
      ],
      "metadata": {
        "colab": {
          "base_uri": "https://localhost:8080/"
        },
        "id": "fLBYtPqD6fo0",
        "outputId": "eeaac684-235e-4352-b6c8-b0b389445d17"
      },
      "execution_count": 159,
      "outputs": [
        {
          "output_type": "stream",
          "name": "stdout",
          "text": [
            "Predicted Conversions - Multiple Regression: 4.45\n"
          ]
        }
      ]
    },
    {
      "cell_type": "markdown",
      "source": [
        "### Ridge Regression Results"
      ],
      "metadata": {
        "id": "0AQT-34j6tSw"
      }
    },
    {
      "cell_type": "code",
      "source": [
        "ridge_prediction = ridge_model.predict(data_input)\n"
      ],
      "metadata": {
        "id": "_nuZeHje4kEa"
      },
      "execution_count": 160,
      "outputs": []
    },
    {
      "cell_type": "code",
      "source": [
        "print(f\"Predicted Conversions - Ridge: {ridge_prediction[0]:.2f}\")"
      ],
      "metadata": {
        "colab": {
          "base_uri": "https://localhost:8080/"
        },
        "id": "GG84Uif059Vo",
        "outputId": "cd89b939-03e3-4d71-9e61-dfc892ca65ba"
      },
      "execution_count": 161,
      "outputs": [
        {
          "output_type": "stream",
          "name": "stdout",
          "text": [
            "Predicted Conversions - Ridge: 4.45\n"
          ]
        }
      ]
    },
    {
      "cell_type": "markdown",
      "source": [
        "### Lasso Regression Results"
      ],
      "metadata": {
        "id": "nGbNN4DS617m"
      }
    },
    {
      "cell_type": "code",
      "source": [
        "lasso_prediction = lasso_model.predict(data_input)"
      ],
      "metadata": {
        "id": "tbUL6_Hs553z"
      },
      "execution_count": 162,
      "outputs": []
    },
    {
      "cell_type": "code",
      "source": [
        "print(f\"Predicted Conversions - Lasso: {lasso_prediction[0]:.2f}\")"
      ],
      "metadata": {
        "colab": {
          "base_uri": "https://localhost:8080/"
        },
        "id": "WcczD2_C4zk9",
        "outputId": "8b294eb1-2257-4c0d-a004-72dde9233987"
      },
      "execution_count": 163,
      "outputs": [
        {
          "output_type": "stream",
          "name": "stdout",
          "text": [
            "Predicted Conversions - Lasso: 4.43\n"
          ]
        }
      ]
    },
    {
      "cell_type": "markdown",
      "source": [
        "## User Data Input and Results"
      ],
      "metadata": {
        "id": "DiW1jDc0Egak"
      }
    },
    {
      "cell_type": "code",
      "source": [
        "# User Input\n",
        "user_input = []\n",
        "for column in X.columns:\n",
        "    value = float(input(f\"Digite o valor para {column}: \"))\n",
        "    user_input.append(value)"
      ],
      "metadata": {
        "colab": {
          "base_uri": "https://localhost:8080/"
        },
        "id": "qD7DTWu4-k4y",
        "outputId": "365f42fc-1092-4ef8-d9d7-a886c2b65a8f"
      },
      "execution_count": 164,
      "outputs": [
        {
          "name": "stdout",
          "output_type": "stream",
          "text": [
            "Digite o valor para Clicks: 200\n",
            "Digite o valor para Impressions: 1800\n",
            "Digite o valor para CPC: 1\n"
          ]
        }
      ]
    },
    {
      "cell_type": "markdown",
      "source": [
        "## Input"
      ],
      "metadata": {
        "id": "WV4cEkE6B3B8"
      }
    },
    {
      "cell_type": "code",
      "source": [
        "input_df = pd.DataFrame([user_input], columns=X.columns)"
      ],
      "metadata": {
        "id": "T84IywxR-rw6"
      },
      "execution_count": 165,
      "outputs": []
    },
    {
      "cell_type": "code",
      "source": [
        "linear_prediction = linear_model.predict(input_df)[0]\n",
        "ridge_prediction = ridge_model.predict(input_df)[0]\n",
        "lasso_prediction = lasso_model.predict(input_df)[0]"
      ],
      "metadata": {
        "id": "1EAaAQJL-s1i"
      },
      "execution_count": 166,
      "outputs": []
    },
    {
      "cell_type": "markdown",
      "source": [
        "### Results"
      ],
      "metadata": {
        "id": "6sVP13cOEwVV"
      }
    },
    {
      "cell_type": "code",
      "source": [
        "print(\"\\nPredictions Results:\")\n",
        "print(f\"Multiple Linear Regression Prediction: {linear_prediction:.2f}\")\n",
        "print(f\"Ridge Regression Prediction: {ridge_prediction:.2f}\")\n",
        "print(f\"Lasso Regression Prediction: {lasso_prediction:.2f}\")"
      ],
      "metadata": {
        "colab": {
          "base_uri": "https://localhost:8080/"
        },
        "id": "k5EC35qK-t_I",
        "outputId": "fae40891-6cc3-47a0-bb6c-398c93d5d894"
      },
      "execution_count": 167,
      "outputs": [
        {
          "output_type": "stream",
          "name": "stdout",
          "text": [
            "\n",
            "Predictions Results:\n",
            "Multiple Linear Regression Prediction: 11.25\n",
            "Ridge Regression Prediction: 11.25\n",
            "Lasso Regression Prediction: 11.23\n"
          ]
        }
      ]
    },
    {
      "cell_type": "markdown",
      "source": [
        "## Models Evaluation"
      ],
      "metadata": {
        "id": "Xy8Ks1lyE4UX"
      }
    },
    {
      "cell_type": "code",
      "source": [
        "models = ['Linear', 'Ridge', 'Lasso']\n",
        "mse_values = [mse, mse_ridge, mse_lasso]\n",
        "r2_values = [r2, r2_ridge, r2_lasso]\n",
        "\n",
        "x = range(len(models))\n",
        "\n",
        "plt.figure(figsize=(10, 5))\n",
        "\n",
        "# Bar chart for R² Score\n",
        "plt.subplot(1, 2, 1)\n",
        "bars = plt.bar(x, r2_values, color=['blue', 'purple', 'green'])\n",
        "# Add labels on top of each bar\n",
        "for i, bar in enumerate(bars):\n",
        "    plt.text(bar.get_x() + bar.get_width() / 2, bar.get_height() + 0.01,  # Position above the bar\n",
        "             f'{r2_values[i]:.4f}',  # Display the R² value with 4 decimal places\n",
        "             ha='center', va='bottom')  # Center horizontally, place above the bar\n",
        "plt.xticks(x, models)\n",
        "plt.ylabel('R²')\n",
        "plt.title('Model Performance Comparison (R²)')\n",
        "plt.ylim(0, max(r2_values) + 0.06)  # Adjust the upper limit of the y-axi\n",
        "plt.tight_layout()\n",
        "plt.show()\n"
      ],
      "metadata": {
        "colab": {
          "base_uri": "https://localhost:8080/",
          "height": 507
        },
        "id": "XOLE4sFZa9FI",
        "outputId": "eda1f04d-766e-41fc-c472-a9ee6206b19a"
      },
      "execution_count": 168,
      "outputs": [
        {
          "output_type": "display_data",
          "data": {
            "text/plain": [
              "<Figure size 1000x500 with 1 Axes>"
            ],
            "image/png": "[encoded data removed]"
          },
          "metadata": {}
        }
      ]
    },
    {
      "cell_type": "code",
      "source": [
        "# Create scatter plots for each model\n",
        "plt.figure(figsize=(18, 6))\n",
        "\n",
        "# Linear Regression\n",
        "plt.subplot(1, 3, 1)\n",
        "plt.scatter(y_test, y_pred, color='blue', alpha=0.5)\n",
        "plt.plot([min(y_test), max(y_test)], [min(y_test), max(y_test)], color='red', linestyle='--')  # Line of equality\n",
        "plt.title('Linear Regression\\nActual vs. Predicted')\n",
        "plt.xlabel('Actual Conversions')\n",
        "plt.ylabel('Predicted Conversions')\n",
        "plt.grid()\n",
        "\n",
        "# Ridge Regression\n",
        "plt.subplot(1, 3, 2)\n",
        "plt.scatter(y_test, y_pred_ridge, color='green', alpha=0.5)\n",
        "plt.plot([min(y_test), max(y_test)], [min(y_test), max(y_test)], color='red', linestyle='--')  # Line of equality\n",
        "plt.title('Ridge Regression\\nActual vs. Predicted')\n",
        "plt.xlabel('Actual Conversions')\n",
        "plt.ylabel('Predicted Conversions')\n",
        "plt.grid()\n",
        "\n",
        "# Lasso Regression\n",
        "plt.subplot(1, 3, 3)\n",
        "plt.scatter(y_test, y_pred_lasso, color='orange', alpha=0.5)\n",
        "plt.plot([min(y_test), max(y_test)], [min(y_test), max(y_test)], color='red', linestyle='--')  # Line of equality\n",
        "plt.title('Lasso Regression\\nActual vs. Predicted')\n",
        "plt.xlabel('Actual Conversions')\n",
        "plt.ylabel('Predicted Conversions')\n",
        "plt.grid()\n",
        "\n",
        "plt.tight_layout()\n",
        "plt.show()\n"
      ],
      "metadata": {
        "colab": {
          "base_uri": "https://localhost:8080/",
          "height": 607
        },
        "id": "XQ6Sc8BUbOj6",
        "outputId": "63e28d22-4801-4a2d-eef7-0f08cd53c19f"
      },
      "execution_count": 86,
      "outputs": [
        {
          "output_type": "display_data",
          "data": {
            "text/plain": [
              "<Figure size 1800x600 with 3 Axes>"
            ],
            "image/png": "[encoded data removed]"
          },
          "metadata": {}
        }
      ]
    },
    {
      "cell_type": "code",
      "source": [
        "# Get the input values for the flowchart\n",
        "clicks = input_df['Clicks'].values[0]\n",
        "impressions = input_df['Impressions'].values[0]\n",
        "cpc = input_df['CPC'].values[0]\n",
        "\n",
        "dot = Digraph()\n",
        "\n",
        "# Add the blocks with different colors\n",
        "dot.node('A', f'Data Input\\n(Clicks: {clicks}, Impressions: {impressions}, CPC: {cpc})', shape='ellipse', style='filled', fillcolor='lightblue')\n",
        "dot.node('B', 'Data Preprocessing\\n(Train-Test Split, Scaling)', shape='ellipse', style='filled', fillcolor='lightgreen')\n",
        "dot.node('C1', 'Model Used\\n(Linear Regression)', shape='ellipse', style='filled', fillcolor='pink')\n",
        "dot.node('C2', 'Model Used\\n(Ridge Regression)', shape='ellipse', style='filled', fillcolor='pink')\n",
        "dot.node('C3', 'Model Used\\n(Lasso Regression)', shape='ellipse', style='filled', fillcolor='pink')\n",
        "dot.node('D1', f'Final Prediction\\n(Linear: {linear_prediction:.2f})', shape='ellipse', style='filled', fillcolor='lightyellow')\n",
        "dot.node('D2', f'Final Prediction\\n(Ridge: {ridge_prediction:.2f})', shape='ellipse', style='filled', fillcolor='lightyellow')\n",
        "dot.node('D3', f'Final Prediction\\n(Lasso: {lasso_prediction:.2f})', shape='ellipse', style='filled', fillcolor='lightyellow')\n",
        "\n",
        "# Add the arrows between blocks\n",
        "dot.edge('A', 'B')\n",
        "dot.edge('B', 'C1')\n",
        "dot.edge('B', 'C2')\n",
        "dot.edge('B', 'C3')\n",
        "dot.edge('C1', 'D1')\n",
        "dot.edge('C2', 'D2')\n",
        "dot.edge('C3', 'D3')\n",
        "\n",
        "# Display the diagram inline\n",
        "display(dot)"
      ],
      "metadata": {
        "colab": {
          "base_uri": "https://localhost:8080/",
          "height": 462
        },
        "id": "iUHXeBCxGBrA",
        "outputId": "cdb6c051-7e14-47ee-b0a8-e27d52dfce11"
      },
      "execution_count": 169,
      "outputs": [
        {
          "output_type": "display_data",
          "data": {
            "image/svg+xml": "<?xml version=\"1.0\" encoding=\"UTF-8\" standalone=\"no\"?>\n<!DOCTYPE svg PUBLIC \"-//W3C//DTD SVG 1.1//EN\"\n \"http://www.w3.org/Graphics/SVG/1.1/DTD/svg11.dtd\">\n<!-- Generated by graphviz version 2.43.0 (0)\n -->\n<!-- Title: %3 Pages: 1 -->\n<svg width=\"565pt\" height=\"331pt\"\n viewBox=\"0.00 0.00 564.95 330.96\" xmlns=\"http://www.w3.org/2000/svg\" xmlns:xlink=\"http://www.w3.org/1999/xlink\">\n<g id=\"graph0\" class=\"graph\" transform=\"scale(1 1) rotate(0) translate(4 326.96)\">\n<title>%3</title>\n<polygon fill=\"white\" stroke=\"transparent\" points=\"-4,4 -4,-326.96 560.95,-326.96 560.95,4 -4,4\"/>\n<!-- A -->\n<g id=\"node1\" class=\"node\">\n<title>A</title>\n<ellipse fill=\"lightblue\" stroke=\"black\" cx=\"281.39\" cy=\"-296.09\" rx=\"194.41\" ry=\"26.74\"/>\n<text text-anchor=\"middle\" x=\"281.39\" y=\"-299.89\" font-family=\"Times,serif\" font-size=\"14.00\">Data Input</text>\n<text text-anchor=\"middle\" x=\"281.39\" y=\"-284.89\" font-family=\"Times,serif\" font-size=\"14.00\">(Clicks: 200.0, Impressions: 1800.0, CPC: 1.0)</text>\n</g>\n<!-- B -->\n<g id=\"node2\" class=\"node\">\n<title>B</title>\n<ellipse fill=\"lightgreen\" stroke=\"black\" cx=\"281.39\" cy=\"-206.35\" rx=\"112.36\" ry=\"26.74\"/>\n<text text-anchor=\"middle\" x=\"281.39\" y=\"-210.15\" font-family=\"Times,serif\" font-size=\"14.00\">Data Preprocessing</text>\n<text text-anchor=\"middle\" x=\"281.39\" y=\"-195.15\" font-family=\"Times,serif\" font-size=\"14.00\">(Train&#45;Test Split, Scaling)</text>\n</g>\n<!-- A&#45;&gt;B -->\n<g id=\"edge1\" class=\"edge\">\n<title>A&#45;&gt;B</title>\n<path fill=\"none\" stroke=\"black\" d=\"M281.39,-268.77C281.39,-260.8 281.39,-251.91 281.39,-243.42\"/>\n<polygon fill=\"black\" stroke=\"black\" points=\"284.89,-243.35 281.39,-233.35 277.89,-243.35 284.89,-243.35\"/>\n</g>\n<!-- C1 -->\n<g id=\"node3\" class=\"node\">\n<title>C1</title>\n<ellipse fill=\"pink\" stroke=\"black\" cx=\"88.39\" cy=\"-116.61\" rx=\"88.28\" ry=\"26.74\"/>\n<text text-anchor=\"middle\" x=\"88.39\" y=\"-120.41\" font-family=\"Times,serif\" font-size=\"14.00\">Model Used</text>\n<text text-anchor=\"middle\" x=\"88.39\" y=\"-105.41\" font-family=\"Times,serif\" font-size=\"14.00\">(Linear Regression)</text>\n</g>\n<!-- B&#45;&gt;C1 -->\n<g id=\"edge2\" class=\"edge\">\n<title>B&#45;&gt;C1</title>\n<path fill=\"none\" stroke=\"black\" d=\"M230.68,-182.3C204.5,-170.4 172.48,-155.84 145.44,-143.55\"/>\n<polygon fill=\"black\" stroke=\"black\" points=\"146.66,-140.25 136.1,-139.3 143.76,-146.63 146.66,-140.25\"/>\n</g>\n<!-- C2 -->\n<g id=\"node4\" class=\"node\">\n<title>C2</title>\n<ellipse fill=\"pink\" stroke=\"black\" cx=\"281.39\" cy=\"-116.61\" rx=\"86.03\" ry=\"26.74\"/>\n<text text-anchor=\"middle\" x=\"281.39\" y=\"-120.41\" font-family=\"Times,serif\" font-size=\"14.00\">Model Used</text>\n<text text-anchor=\"middle\" x=\"281.39\" y=\"-105.41\" font-family=\"Times,serif\" font-size=\"14.00\">(Ridge Regression)</text>\n</g>\n<!-- B&#45;&gt;C2 -->\n<g id=\"edge3\" class=\"edge\">\n<title>B&#45;&gt;C2</title>\n<path fill=\"none\" stroke=\"black\" d=\"M281.39,-179.03C281.39,-171.06 281.39,-162.17 281.39,-153.68\"/>\n<polygon fill=\"black\" stroke=\"black\" points=\"284.89,-153.61 281.39,-143.61 277.89,-153.61 284.89,-153.61\"/>\n</g>\n<!-- C3 -->\n<g id=\"node5\" class=\"node\">\n<title>C3</title>\n<ellipse fill=\"pink\" stroke=\"black\" cx=\"471.39\" cy=\"-116.61\" rx=\"85.62\" ry=\"26.74\"/>\n<text text-anchor=\"middle\" x=\"471.39\" y=\"-120.41\" font-family=\"Times,serif\" font-size=\"14.00\">Model Used</text>\n<text text-anchor=\"middle\" x=\"471.39\" y=\"-105.41\" font-family=\"Times,serif\" font-size=\"14.00\">(Lasso Regression)</text>\n</g>\n<!-- B&#45;&gt;C3 -->\n<g id=\"edge4\" class=\"edge\">\n<title>B&#45;&gt;C3</title>\n<path fill=\"none\" stroke=\"black\" d=\"M331.81,-182.07C357.57,-170.17 389,-155.66 415.5,-143.42\"/>\n<polygon fill=\"black\" stroke=\"black\" points=\"417.04,-146.56 424.65,-139.19 414.11,-140.21 417.04,-146.56\"/>\n</g>\n<!-- D1 -->\n<g id=\"node6\" class=\"node\">\n<title>D1</title>\n<ellipse fill=\"lightyellow\" stroke=\"black\" cx=\"88.39\" cy=\"-26.87\" rx=\"73.58\" ry=\"26.74\"/>\n<text text-anchor=\"middle\" x=\"88.39\" y=\"-30.67\" font-family=\"Times,serif\" font-size=\"14.00\">Final Prediction</text>\n<text text-anchor=\"middle\" x=\"88.39\" y=\"-15.67\" font-family=\"Times,serif\" font-size=\"14.00\">(Linear: 11.25)</text>\n</g>\n<!-- C1&#45;&gt;D1 -->\n<g id=\"edge5\" class=\"edge\">\n<title>C1&#45;&gt;D1</title>\n<path fill=\"none\" stroke=\"black\" d=\"M88.39,-89.29C88.39,-81.32 88.39,-72.43 88.39,-63.94\"/>\n<polygon fill=\"black\" stroke=\"black\" points=\"91.89,-63.87 88.39,-53.87 84.89,-63.87 91.89,-63.87\"/>\n</g>\n<!-- D2 -->\n<g id=\"node7\" class=\"node\">\n<title>D2</title>\n<ellipse fill=\"lightyellow\" stroke=\"black\" cx=\"281.39\" cy=\"-26.87\" rx=\"73.58\" ry=\"26.74\"/>\n<text text-anchor=\"middle\" x=\"281.39\" y=\"-30.67\" font-family=\"Times,serif\" font-size=\"14.00\">Final Prediction</text>\n<text text-anchor=\"middle\" x=\"281.39\" y=\"-15.67\" font-family=\"Times,serif\" font-size=\"14.00\">(Ridge: 11.25)</text>\n</g>\n<!-- C2&#45;&gt;D2 -->\n<g id=\"edge6\" class=\"edge\">\n<title>C2&#45;&gt;D2</title>\n<path fill=\"none\" stroke=\"black\" d=\"M281.39,-89.29C281.39,-81.32 281.39,-72.43 281.39,-63.94\"/>\n<polygon fill=\"black\" stroke=\"black\" points=\"284.89,-63.87 281.39,-53.87 277.89,-63.87 284.89,-63.87\"/>\n</g>\n<!-- D3 -->\n<g id=\"node8\" class=\"node\">\n<title>D3</title>\n<ellipse fill=\"lightyellow\" stroke=\"black\" cx=\"471.39\" cy=\"-26.87\" rx=\"73.58\" ry=\"26.74\"/>\n<text text-anchor=\"middle\" x=\"471.39\" y=\"-30.67\" font-family=\"Times,serif\" font-size=\"14.00\">Final Prediction</text>\n<text text-anchor=\"middle\" x=\"471.39\" y=\"-15.67\" font-family=\"Times,serif\" font-size=\"14.00\">(Lasso: 11.23)</text>\n</g>\n<!-- C3&#45;&gt;D3 -->\n<g id=\"edge7\" class=\"edge\">\n<title>C3&#45;&gt;D3</title>\n<path fill=\"none\" stroke=\"black\" d=\"M471.39,-89.29C471.39,-81.32 471.39,-72.43 471.39,-63.94\"/>\n<polygon fill=\"black\" stroke=\"black\" points=\"474.89,-63.87 471.39,-53.87 467.89,-63.87 474.89,-63.87\"/>\n</g>\n</g>\n</svg>\n",
            "text/plain": [
              "<graphviz.graphs.Digraph at 0x7b1df76eda80>"
            ]
          },
          "metadata": {}
        }
      ]
    }
  ]
}